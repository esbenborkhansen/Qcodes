{
 "cells": [
  {
   "cell_type": "markdown",
   "metadata": {},
   "source": [
    "# ScaledParameter\n",
    "Sometimes the values that we set/get on the computer are not the physical value that reach/originate from the sample. The ScaledParameter can be used to convert quantities with a simple linear relationship without offset."
   ]
  },
  {
   "cell_type": "code",
   "execution_count": 1,
   "metadata": {
    "execution": {
     "iopub.execute_input": "2025-01-22T09:07:13.101012Z",
     "iopub.status.busy": "2025-01-22T09:07:13.100840Z",
     "iopub.status.idle": "2025-01-22T09:07:13.728548Z",
     "shell.execute_reply": "2025-01-22T09:07:13.727899Z"
    }
   },
   "outputs": [
    {
     "name": "stdout",
     "output_type": "stream",
     "text": [
      "Logging hadn't been started.\n",
      "Activating auto-logging. Current session state plus future input saved.\n",
      "Filename       : /home/runner/.qcodes/logs/command_history.log\n",
      "Mode           : append\n",
      "Output logging : True\n",
      "Raw input log  : False\n",
      "Timestamping   : True\n",
      "State          : active\n"
     ]
    },
    {
     "name": "stdout",
     "output_type": "stream",
     "text": [
      "Qcodes Logfile : /home/runner/.qcodes/logs/250122-19969-qcodes.log\n"
     ]
    }
   ],
   "source": [
    "from qcodes.parameters import ManualParameter, ScaledParameter"
   ]
  },
  {
   "cell_type": "code",
   "execution_count": 2,
   "metadata": {
    "execution": {
     "iopub.execute_input": "2025-01-22T09:07:13.730558Z",
     "iopub.status.busy": "2025-01-22T09:07:13.730191Z",
     "iopub.status.idle": "2025-01-22T09:07:13.733602Z",
     "shell.execute_reply": "2025-01-22T09:07:13.733009Z"
    }
   },
   "outputs": [],
   "source": [
    "dac0 = ManualParameter(\"dac0\", unit=\"V\")\n",
    "dac1 = ManualParameter(\"dac1\", unit=\"V\")\n",
    "amplitude = ManualParameter(\"amplitude\", initial_value=3.14, unit=\"V\")"
   ]
  },
  {
   "cell_type": "markdown",
   "metadata": {},
   "source": [
    "## Resistive voltage divider\n",
    "The simplest case is a resistive divider, where the set voltage is divided by a fixed amount."
   ]
  },
  {
   "cell_type": "code",
   "execution_count": 3,
   "metadata": {
    "execution": {
     "iopub.execute_input": "2025-01-22T09:07:13.735365Z",
     "iopub.status.busy": "2025-01-22T09:07:13.735153Z",
     "iopub.status.idle": "2025-01-22T09:07:13.738145Z",
     "shell.execute_reply": "2025-01-22T09:07:13.737659Z"
    }
   },
   "outputs": [],
   "source": [
    "vd = ScaledParameter(dac0, division=10)"
   ]
  },
  {
   "cell_type": "code",
   "execution_count": 4,
   "metadata": {
    "execution": {
     "iopub.execute_input": "2025-01-22T09:07:13.739662Z",
     "iopub.status.busy": "2025-01-22T09:07:13.739491Z",
     "iopub.status.idle": "2025-01-22T09:07:13.742182Z",
     "shell.execute_reply": "2025-01-22T09:07:13.741731Z"
    }
   },
   "outputs": [],
   "source": [
    "vd(10)"
   ]
  },
  {
   "cell_type": "code",
   "execution_count": 5,
   "metadata": {
    "execution": {
     "iopub.execute_input": "2025-01-22T09:07:13.743770Z",
     "iopub.status.busy": "2025-01-22T09:07:13.743601Z",
     "iopub.status.idle": "2025-01-22T09:07:13.747193Z",
     "shell.execute_reply": "2025-01-22T09:07:13.746734Z"
    }
   },
   "outputs": [
    {
     "name": "stdout",
     "output_type": "stream",
     "text": [
      "Vd = 10.0 V , real setted value = 100 V\n"
     ]
    }
   ],
   "source": [
    "print(\"Vd =\", vd(), vd.unit, \", real setted value =\", dac0(), dac0.unit)"
   ]
  },
  {
   "cell_type": "markdown",
   "metadata": {},
   "source": [
    "## Voltage multiplier\n",
    "If the voltage is amplified, we can specify a `gain` value instead of `division`."
   ]
  },
  {
   "cell_type": "code",
   "execution_count": 6,
   "metadata": {
    "execution": {
     "iopub.execute_input": "2025-01-22T09:07:13.748953Z",
     "iopub.status.busy": "2025-01-22T09:07:13.748613Z",
     "iopub.status.idle": "2025-01-22T09:07:13.751387Z",
     "shell.execute_reply": "2025-01-22T09:07:13.750916Z"
    }
   },
   "outputs": [],
   "source": [
    "vb = ScaledParameter(dac1, gain=30, name=\"Vb\")"
   ]
  },
  {
   "cell_type": "code",
   "execution_count": 7,
   "metadata": {
    "execution": {
     "iopub.execute_input": "2025-01-22T09:07:13.753052Z",
     "iopub.status.busy": "2025-01-22T09:07:13.752720Z",
     "iopub.status.idle": "2025-01-22T09:07:13.755444Z",
     "shell.execute_reply": "2025-01-22T09:07:13.754953Z"
    }
   },
   "outputs": [],
   "source": [
    "vb(5)"
   ]
  },
  {
   "cell_type": "code",
   "execution_count": 8,
   "metadata": {
    "execution": {
     "iopub.execute_input": "2025-01-22T09:07:13.757084Z",
     "iopub.status.busy": "2025-01-22T09:07:13.756751Z",
     "iopub.status.idle": "2025-01-22T09:07:13.760190Z",
     "shell.execute_reply": "2025-01-22T09:07:13.759718Z"
    }
   },
   "outputs": [
    {
     "name": "stdout",
     "output_type": "stream",
     "text": [
      "Vb = 10.0 V , Original_value = 0.16666666666666666 V\n"
     ]
    }
   ],
   "source": [
    "print(\"Vb =\", vd(), vb.unit, \", Original_value =\", dac1(), dac1.unit)"
   ]
  },
  {
   "cell_type": "markdown",
   "metadata": {},
   "source": [
    "## Transimpedance amplifier\n",
    "The ScaledParameter can be used also for quantities that are read, like a current read by a transimpedance amplifier, digitized by a multimeter.\n",
    "We can also specify a different unit from the wrapped parameter. The semantic of gain/division is inverted compared to the previous cases, since it is a value that we read."
   ]
  },
  {
   "cell_type": "code",
   "execution_count": 9,
   "metadata": {
    "execution": {
     "iopub.execute_input": "2025-01-22T09:07:13.761845Z",
     "iopub.status.busy": "2025-01-22T09:07:13.761518Z",
     "iopub.status.idle": "2025-01-22T09:07:13.764232Z",
     "shell.execute_reply": "2025-01-22T09:07:13.763778Z"
    }
   },
   "outputs": [],
   "source": [
    "Id = ScaledParameter(amplitude, division=1e6, name=\"Id\", unit=\"A\")"
   ]
  },
  {
   "cell_type": "code",
   "execution_count": 10,
   "metadata": {
    "execution": {
     "iopub.execute_input": "2025-01-22T09:07:13.765874Z",
     "iopub.status.busy": "2025-01-22T09:07:13.765594Z",
     "iopub.status.idle": "2025-01-22T09:07:13.768980Z",
     "shell.execute_reply": "2025-01-22T09:07:13.768424Z"
    }
   },
   "outputs": [
    {
     "name": "stdout",
     "output_type": "stream",
     "text": [
      "Id = 3.14e-06 A , Read_value = 3.14 V\n"
     ]
    }
   ],
   "source": [
    "print(\"Id =\", Id(), Id.unit, \", Read_value =\", amplitude(), amplitude.unit)"
   ]
  },
  {
   "cell_type": "markdown",
   "metadata": {},
   "source": [
    "The gain can be manually changed at any time"
   ]
  },
  {
   "cell_type": "code",
   "execution_count": 11,
   "metadata": {
    "execution": {
     "iopub.execute_input": "2025-01-22T09:07:13.770723Z",
     "iopub.status.busy": "2025-01-22T09:07:13.770392Z",
     "iopub.status.idle": "2025-01-22T09:07:13.773392Z",
     "shell.execute_reply": "2025-01-22T09:07:13.772941Z"
    }
   },
   "outputs": [
    {
     "name": "stdout",
     "output_type": "stream",
     "text": [
      "Id = 3.14e-08 A , Read_value = 3.14 V\n"
     ]
    }
   ],
   "source": [
    "Id.division = 1e8\n",
    "print(\"Id =\", Id(), Id.unit, \", Read_value =\", amplitude(), amplitude.unit)"
   ]
  },
  {
   "cell_type": "markdown",
   "metadata": {},
   "source": [
    "The gain/division can be itself a Qcodes paramter, for example if is a gain set by a remote instrument"
   ]
  },
  {
   "cell_type": "code",
   "execution_count": 12,
   "metadata": {
    "execution": {
     "iopub.execute_input": "2025-01-22T09:07:13.775020Z",
     "iopub.status.busy": "2025-01-22T09:07:13.774717Z",
     "iopub.status.idle": "2025-01-22T09:07:13.777240Z",
     "shell.execute_reply": "2025-01-22T09:07:13.776799Z"
    }
   },
   "outputs": [],
   "source": [
    "remote_gain = ManualParameter(\"remote_gain\", initial_value=1e6, unit=\"V/A\")"
   ]
  },
  {
   "cell_type": "code",
   "execution_count": 13,
   "metadata": {
    "execution": {
     "iopub.execute_input": "2025-01-22T09:07:13.778908Z",
     "iopub.status.busy": "2025-01-22T09:07:13.778594Z",
     "iopub.status.idle": "2025-01-22T09:07:13.782019Z",
     "shell.execute_reply": "2025-01-22T09:07:13.781441Z"
    }
   },
   "outputs": [
    {
     "name": "stdout",
     "output_type": "stream",
     "text": [
      "Id = 3.14e-06 A , Read_value = 3.14 V\n"
     ]
    }
   ],
   "source": [
    "Id.division = remote_gain\n",
    "print(\"Id =\", Id(), Id.unit, \", Read_value =\", amplitude(), amplitude.unit)"
   ]
  },
  {
   "cell_type": "code",
   "execution_count": 14,
   "metadata": {
    "execution": {
     "iopub.execute_input": "2025-01-22T09:07:13.783704Z",
     "iopub.status.busy": "2025-01-22T09:07:13.783368Z",
     "iopub.status.idle": "2025-01-22T09:07:13.786786Z",
     "shell.execute_reply": "2025-01-22T09:07:13.786338Z"
    }
   },
   "outputs": [
    {
     "name": "stdout",
     "output_type": "stream",
     "text": [
      "Id = 3.14e-08 A , Read_value = 3.14 V\n"
     ]
    }
   ],
   "source": [
    "remote_gain(1e8)\n",
    "print(\"Id =\", Id(), Id.unit, \", Read_value =\", amplitude(), amplitude.unit)"
   ]
  }
 ],
 "metadata": {
  "kernelspec": {
   "display_name": "Python 3",
   "language": "python",
   "name": "python3"
  },
  "language_info": {
   "codemirror_mode": {
    "name": "ipython",
    "version": 3
   },
   "file_extension": ".py",
   "mimetype": "text/x-python",
   "name": "python",
   "nbconvert_exporter": "python",
   "pygments_lexer": "ipython3",
   "version": "3.11.11"
  },
  "toc": {
   "base_numbering": 1,
   "nav_menu": {},
   "number_sections": true,
   "sideBar": true,
   "skip_h1_title": false,
   "title_cell": "Table of Contents",
   "title_sidebar": "Contents",
   "toc_cell": false,
   "toc_position": {},
   "toc_section_display": true,
   "toc_window_display": false
  },
  "varInspector": {
   "cols": {
    "lenName": 16,
    "lenType": 16,
    "lenVar": 40
   },
   "kernels_config": {
    "python": {
     "delete_cmd_postfix": "",
     "delete_cmd_prefix": "del ",
     "library": "var_list.py",
     "varRefreshCmd": "print(var_dic_list())"
    },
    "r": {
     "delete_cmd_postfix": ") ",
     "delete_cmd_prefix": "rm(",
     "library": "var_list.r",
     "varRefreshCmd": "cat(var_dic_list()) "
    }
   },
   "types_to_exclude": [
    "module",
    "function",
    "builtin_function_or_method",
    "instance",
    "_Feature"
   ],
   "window_display": false
  }
 },
 "nbformat": 4,
 "nbformat_minor": 2
}
