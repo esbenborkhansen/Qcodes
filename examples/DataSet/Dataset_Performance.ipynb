{
 "cells": [
  {
   "cell_type": "markdown",
   "metadata": {},
   "source": [
    "# DataSet Performance\n",
    "\n",
    "This notebook shows the trade-off between inserting data into a database row-by-row and as binary blobs. Inserting the data row-by-row means that we have direct access to all the data and may perform queries directly on the values of the data. On the other hand, as we shall see, this is much slower than inserting the data directly as binary blobs."
   ]
  },
  {
   "cell_type": "markdown",
   "metadata": {},
   "source": [
    "First, we choose a new location for the database to ensure that we don't add a bunch of benchmarking data to the default one."
   ]
  },
  {
   "cell_type": "code",
   "execution_count": 1,
   "metadata": {
    "execution": {
     "iopub.execute_input": "2025-01-22T09:02:45.670251Z",
     "iopub.status.busy": "2025-01-22T09:02:45.670082Z",
     "iopub.status.idle": "2025-01-22T09:02:46.305758Z",
     "shell.execute_reply": "2025-01-22T09:02:46.305150Z"
    }
   },
   "outputs": [
    {
     "name": "stdout",
     "output_type": "stream",
     "text": [
      "Logging hadn't been started.\n",
      "Activating auto-logging. Current session state plus future input saved.\n",
      "Filename       : /home/runner/.qcodes/logs/command_history.log\n",
      "Mode           : append\n",
      "Output logging : True\n",
      "Raw input log  : False\n",
      "Timestamping   : True\n",
      "State          : active\n"
     ]
    },
    {
     "name": "stdout",
     "output_type": "stream",
     "text": [
      "Qcodes Logfile : /home/runner/.qcodes/logs/250122-9685-qcodes.log\n"
     ]
    }
   ],
   "source": [
    "import os\n",
    "\n",
    "import qcodes as qc\n",
    "\n",
    "cwd = os.getcwd()\n",
    "qc.config[\"core\"][\"db_location\"] = os.path.join(cwd, \"testing.db\")"
   ]
  },
  {
   "cell_type": "code",
   "execution_count": 2,
   "metadata": {
    "execution": {
     "iopub.execute_input": "2025-01-22T09:02:46.307760Z",
     "iopub.status.busy": "2025-01-22T09:02:46.307334Z",
     "iopub.status.idle": "2025-01-22T09:02:46.574999Z",
     "shell.execute_reply": "2025-01-22T09:02:46.574383Z"
    }
   },
   "outputs": [],
   "source": [
    "%matplotlib inline\n",
    "import time\n",
    "from pathlib import Path\n",
    "\n",
    "import matplotlib.pyplot as plt\n",
    "import numpy as np\n",
    "\n",
    "import qcodes as qc\n",
    "from qcodes.dataset import (\n",
    "    Measurement,\n",
    "    initialise_or_create_database_at,\n",
    "    load_or_create_experiment,\n",
    ")\n",
    "from qcodes.parameters import ManualParameter"
   ]
  },
  {
   "cell_type": "code",
   "execution_count": 3,
   "metadata": {
    "execution": {
     "iopub.execute_input": "2025-01-22T09:02:46.577007Z",
     "iopub.status.busy": "2025-01-22T09:02:46.576671Z",
     "iopub.status.idle": "2025-01-22T09:02:46.612076Z",
     "shell.execute_reply": "2025-01-22T09:02:46.611609Z"
    }
   },
   "outputs": [],
   "source": [
    "initialise_or_create_database_at(Path.cwd() / \"dataset_performance.db\")\n",
    "exp = load_or_create_experiment(experiment_name=\"tutorial_exp\", sample_name=\"no sample\")"
   ]
  },
  {
   "cell_type": "markdown",
   "metadata": {},
   "source": [
    "Here, we define a simple function to benchmark the time it takes to insert n points with either numeric or array data type.\n",
    "We will compare both the time used to call ``add_result`` and the time used for the full measurement."
   ]
  },
  {
   "cell_type": "code",
   "execution_count": 4,
   "metadata": {
    "execution": {
     "iopub.execute_input": "2025-01-22T09:02:46.613946Z",
     "iopub.status.busy": "2025-01-22T09:02:46.613626Z",
     "iopub.status.idle": "2025-01-22T09:02:46.619328Z",
     "shell.execute_reply": "2025-01-22T09:02:46.618731Z"
    }
   },
   "outputs": [],
   "source": [
    "def insert_data(paramtype, npoints, nreps=1):\n",
    "    meas = Measurement(exp=exp)\n",
    "\n",
    "    x1 = ManualParameter(\"x1\")\n",
    "    x2 = ManualParameter(\"x2\")\n",
    "    x3 = ManualParameter(\"x3\")\n",
    "    y1 = ManualParameter(\"y1\")\n",
    "    y2 = ManualParameter(\"y2\")\n",
    "\n",
    "    meas.register_parameter(x1, paramtype=paramtype)\n",
    "    meas.register_parameter(x2, paramtype=paramtype)\n",
    "    meas.register_parameter(x3, paramtype=paramtype)\n",
    "    meas.register_parameter(y1, setpoints=[x1, x2, x3], paramtype=paramtype)\n",
    "    meas.register_parameter(y2, setpoints=[x1, x2, x3], paramtype=paramtype)\n",
    "    start = time.perf_counter()\n",
    "    with meas.run() as datasaver:\n",
    "        start_adding = time.perf_counter()\n",
    "        for i in range(nreps):\n",
    "            datasaver.add_result(\n",
    "                (x1, np.random.rand(npoints)),\n",
    "                (x2, np.random.rand(npoints)),\n",
    "                (x3, np.random.rand(npoints)),\n",
    "                (y1, np.random.rand(npoints)),\n",
    "                (y2, np.random.rand(npoints)),\n",
    "            )\n",
    "        stop_adding = time.perf_counter()\n",
    "        run_id = datasaver.run_id\n",
    "    stop = time.perf_counter()\n",
    "    tot_time = stop - start\n",
    "    add_time = stop_adding - start_adding\n",
    "    return tot_time, add_time, run_id"
   ]
  },
  {
   "cell_type": "markdown",
   "metadata": {},
   "source": [
    "## Comparison between numeric/array data and binary blob"
   ]
  },
  {
   "cell_type": "markdown",
   "metadata": {},
   "source": [
    "### Case1: Short experiment time"
   ]
  },
  {
   "cell_type": "code",
   "execution_count": 5,
   "metadata": {
    "execution": {
     "iopub.execute_input": "2025-01-22T09:02:46.621045Z",
     "iopub.status.busy": "2025-01-22T09:02:46.620735Z",
     "iopub.status.idle": "2025-01-22T09:02:47.004196Z",
     "shell.execute_reply": "2025-01-22T09:02:47.003716Z"
    }
   },
   "outputs": [
    {
     "name": "stdout",
     "output_type": "stream",
     "text": [
      "Starting experimental run with id: 1. \n",
      "Starting experimental run with id: 2. \n",
      "Starting experimental run with id: 3. \n",
      "Starting experimental run with id: 4. \n",
      "Starting experimental run with id: 5. \n",
      "Starting experimental run with id: 6. \n",
      "Starting experimental run with id: 7. \n",
      "Starting experimental run with id: 8. \n",
      "Starting experimental run with id: 9. \n"
     ]
    },
    {
     "name": "stdout",
     "output_type": "stream",
     "text": [
      "Starting experimental run with id: 10. \n",
      "Starting experimental run with id: 11. \n",
      "Starting experimental run with id: 12. \n",
      "Starting experimental run with id: 13. \n",
      "Starting experimental run with id: 14. \n"
     ]
    }
   ],
   "source": [
    "sizes = [1, 500, 1000, 2000, 3000, 4000, 5000]\n",
    "t_numeric = []\n",
    "t_numeric_add = []\n",
    "t_array = []\n",
    "t_array_add = []\n",
    "for size in sizes:\n",
    "    tn, tna, run_id_n = insert_data(\"numeric\", size)\n",
    "    t_numeric.append(tn)\n",
    "    t_numeric_add.append(tna)\n",
    "\n",
    "    ta, taa, run_id_a = insert_data(\"array\", size)\n",
    "    t_array.append(ta)\n",
    "    t_array_add.append(taa)"
   ]
  },
  {
   "cell_type": "code",
   "execution_count": 6,
   "metadata": {
    "execution": {
     "iopub.execute_input": "2025-01-22T09:02:47.006176Z",
     "iopub.status.busy": "2025-01-22T09:02:47.005720Z",
     "iopub.status.idle": "2025-01-22T09:02:47.160004Z",
     "shell.execute_reply": "2025-01-22T09:02:47.159434Z"
    }
   },
   "outputs": [
    {
     "data": {
      "image/png": "[encoded data removed]",
      "text/plain": [
       "<Figure size 640x480 with 1 Axes>"
      ]
     },
     "metadata": {},
     "output_type": "display_data"
    }
   ],
   "source": [
    "fig, ax = plt.subplots(1, 1)\n",
    "ax.plot(sizes, t_numeric, \"o-\", label=\"Inserting row-by-row\")\n",
    "ax.plot(sizes, t_numeric_add, \"o-\", label=\"Inserting row-by-row: add_result only\")\n",
    "ax.plot(sizes, t_array, \"d-\", label=\"Inserting as binary blob\")\n",
    "ax.plot(sizes, t_array_add, \"d-\", label=\"Inserting as binary blob: add_result only\")\n",
    "ax.legend()\n",
    "ax.set_xlabel(\"Array length\")\n",
    "ax.set_ylabel(\"Time (s)\")\n",
    "fig.tight_layout()"
   ]
  },
  {
   "cell_type": "markdown",
   "metadata": {},
   "source": [
    "As shown in the latter figure, the time to setup and and close the experiment is approximately 0.4 sec. In case of small array sizes, the difference between inserting values of data as arrays and inserting them row-by-row is relatively unimportant. At larger array sizes, i.e. above 10000 points, the cost of writing data as individual datapoints starts to become important.\n"
   ]
  },
  {
   "cell_type": "markdown",
   "metadata": {},
   "source": [
    "### Case2: Long experiment time "
   ]
  },
  {
   "cell_type": "code",
   "execution_count": 7,
   "metadata": {
    "execution": {
     "iopub.execute_input": "2025-01-22T09:02:47.161920Z",
     "iopub.status.busy": "2025-01-22T09:02:47.161581Z",
     "iopub.status.idle": "2025-01-22T09:03:04.872500Z",
     "shell.execute_reply": "2025-01-22T09:03:04.871865Z"
    }
   },
   "outputs": [
    {
     "name": "stdout",
     "output_type": "stream",
     "text": [
      "Starting experimental run with id: 15. \n",
      "Starting experimental run with id: 16. \n",
      "Starting experimental run with id: 17. \n"
     ]
    },
    {
     "name": "stdout",
     "output_type": "stream",
     "text": [
      "Starting experimental run with id: 18. \n",
      "Starting experimental run with id: 19. \n"
     ]
    },
    {
     "name": "stdout",
     "output_type": "stream",
     "text": [
      "Starting experimental run with id: 20. \n",
      "Starting experimental run with id: 21. \n"
     ]
    },
    {
     "name": "stdout",
     "output_type": "stream",
     "text": [
      "Starting experimental run with id: 22. \n",
      "Starting experimental run with id: 23. \n"
     ]
    },
    {
     "name": "stdout",
     "output_type": "stream",
     "text": [
      "Starting experimental run with id: 24. \n",
      "Starting experimental run with id: 25. \n"
     ]
    },
    {
     "name": "stdout",
     "output_type": "stream",
     "text": [
      "Starting experimental run with id: 26. \n"
     ]
    },
    {
     "name": "stdout",
     "output_type": "stream",
     "text": [
      "Starting experimental run with id: 27. \n"
     ]
    },
    {
     "name": "stdout",
     "output_type": "stream",
     "text": [
      "Starting experimental run with id: 28. \n"
     ]
    }
   ],
   "source": [
    "sizes = [1, 500, 1000, 2000, 3000, 4000, 5000]\n",
    "nreps = 100\n",
    "t_numeric = []\n",
    "t_numeric_add = []\n",
    "t_numeric_run_ids = []\n",
    "t_array = []\n",
    "t_array_add = []\n",
    "t_array_run_ids = []\n",
    "for size in sizes:\n",
    "    tn, tna, run_id_n = insert_data(\"numeric\", size, nreps=nreps)\n",
    "    t_numeric.append(tn)\n",
    "    t_numeric_add.append(tna)\n",
    "    t_numeric_run_ids.append(run_id_n)\n",
    "\n",
    "    ta, taa, run_id_a = insert_data(\"array\", size, nreps=nreps)\n",
    "    t_array.append(ta)\n",
    "    t_array_add.append(taa)\n",
    "    t_array_run_ids.append(run_id_a)"
   ]
  },
  {
   "cell_type": "code",
   "execution_count": 8,
   "metadata": {
    "execution": {
     "iopub.execute_input": "2025-01-22T09:03:04.874868Z",
     "iopub.status.busy": "2025-01-22T09:03:04.874420Z",
     "iopub.status.idle": "2025-01-22T09:03:05.019877Z",
     "shell.execute_reply": "2025-01-22T09:03:05.019291Z"
    },
    "scrolled": true
   },
   "outputs": [
    {
     "data": {
      "image/png": "[encoded data removed]",
      "text/plain": [
       "<Figure size 640x480 with 1 Axes>"
      ]
     },
     "metadata": {},
     "output_type": "display_data"
    }
   ],
   "source": [
    "fig, ax = plt.subplots(1, 1)\n",
    "ax.plot(sizes, t_numeric, \"o-\", label=\"Inserting row-by-row\")\n",
    "ax.plot(sizes, t_numeric_add, \"o-\", label=\"Inserting row-by-row: add_result only\")\n",
    "ax.plot(sizes, t_array, \"d-\", label=\"Inserting as binary blob\")\n",
    "ax.plot(sizes, t_array_add, \"d-\", label=\"Inserting as binary blob: add_result only\")\n",
    "ax.legend()\n",
    "ax.set_xlabel(\"Array length\")\n",
    "ax.set_ylabel(\"Time (s)\")\n",
    "fig.tight_layout()"
   ]
  },
  {
   "cell_type": "markdown",
   "metadata": {},
   "source": [
    "However, as we increase the length of the experiment, as seen here by repeating the insertion 100 times, we see a big difference between inserting values of the data row-by-row and inserting it as a binary blob."
   ]
  },
  {
   "cell_type": "markdown",
   "metadata": {},
   "source": [
    "## Loading the data "
   ]
  },
  {
   "cell_type": "code",
   "execution_count": 9,
   "metadata": {
    "execution": {
     "iopub.execute_input": "2025-01-22T09:03:05.022126Z",
     "iopub.status.busy": "2025-01-22T09:03:05.021924Z",
     "iopub.status.idle": "2025-01-22T09:03:05.025531Z",
     "shell.execute_reply": "2025-01-22T09:03:05.024941Z"
    }
   },
   "outputs": [],
   "source": [
    "from qcodes.dataset import load_by_id"
   ]
  },
  {
   "cell_type": "markdown",
   "metadata": {},
   "source": [
    "As usual you can load the data by using the ``load_by_id`` function but you will notice that the different storage methods\n",
    "are reflected in shape of the data as it is retrieved. "
   ]
  },
  {
   "cell_type": "code",
   "execution_count": 10,
   "metadata": {
    "execution": {
     "iopub.execute_input": "2025-01-22T09:03:05.027447Z",
     "iopub.status.busy": "2025-01-22T09:03:05.027083Z",
     "iopub.status.idle": "2025-01-22T09:03:05.029904Z",
     "shell.execute_reply": "2025-01-22T09:03:05.029338Z"
    }
   },
   "outputs": [],
   "source": [
    "run_id_n = t_numeric_run_ids[0]\n",
    "run_id_a = t_array_run_ids[0]"
   ]
  },
  {
   "cell_type": "code",
   "execution_count": 11,
   "metadata": {
    "execution": {
     "iopub.execute_input": "2025-01-22T09:03:05.031727Z",
     "iopub.status.busy": "2025-01-22T09:03:05.031560Z",
     "iopub.status.idle": "2025-01-22T09:03:05.041330Z",
     "shell.execute_reply": "2025-01-22T09:03:05.040752Z"
    },
    "scrolled": true
   },
   "outputs": [
    {
     "data": {
      "text/plain": [
       "{'x1': {'x1': array([7.25172019e-01, 7.25172019e-01, 6.65032791e-01, 6.65032791e-01,\n",
       "         8.63772896e-01, 8.63772896e-01, 1.29786902e-01, 1.29786902e-01,\n",
       "         6.27611397e-01, 6.27611397e-01, 7.09761484e-01, 7.09761484e-01,\n",
       "         8.99455331e-01, 8.99455331e-01, 1.15957633e-01, 1.15957633e-01,\n",
       "         3.83187738e-01, 3.83187738e-01, 7.83686816e-01, 7.83686816e-01,\n",
       "         6.60917131e-02, 6.60917131e-02, 9.33504793e-01, 9.33504793e-01,\n",
       "         2.57102966e-01, 2.57102966e-01, 4.15720691e-01, 4.15720691e-01,\n",
       "         2.89540374e-01, 2.89540374e-01, 8.88526448e-01, 8.88526448e-01,\n",
       "         5.85693677e-02, 5.85693677e-02, 8.06562648e-01, 8.06562648e-01,\n",
       "         8.43709268e-01, 8.43709268e-01, 8.32822369e-01, 8.32822369e-01,\n",
       "         7.84938312e-01, 7.84938312e-01, 5.68232617e-01, 5.68232617e-01,\n",
       "         2.23260217e-02, 2.23260217e-02, 3.54972110e-01, 3.54972110e-01,\n",
       "         5.20454090e-01, 5.20454090e-01, 6.46517186e-01, 6.46517186e-01,\n",
       "         1.03558486e-01, 1.03558486e-01, 6.13063191e-01, 6.13063191e-01,\n",
       "         8.60738141e-01, 8.60738141e-01, 6.01227959e-01, 6.01227959e-01,\n",
       "         6.62102358e-01, 6.62102358e-01, 3.79856289e-01, 3.79856289e-01,\n",
       "         6.45092891e-01, 6.45092891e-01, 4.07301757e-01, 4.07301757e-01,\n",
       "         8.52450960e-01, 8.52450960e-01, 4.12251152e-01, 4.12251152e-01,\n",
       "         9.37689441e-01, 9.37689441e-01, 1.56226050e-01, 1.56226050e-01,\n",
       "         4.94510058e-01, 4.94510058e-01, 4.71260907e-01, 4.71260907e-01,\n",
       "         4.45112151e-01, 4.45112151e-01, 7.20371593e-01, 7.20371593e-01,\n",
       "         6.59957665e-01, 6.59957665e-01, 9.48738687e-02, 9.48738687e-02,\n",
       "         4.43575012e-01, 4.43575012e-01, 5.89948110e-02, 5.89948110e-02,\n",
       "         1.86394149e-01, 1.86394149e-01, 6.65882688e-01, 6.65882688e-01,\n",
       "         2.71968195e-01, 2.71968195e-01, 5.28752017e-01, 5.28752017e-01,\n",
       "         4.23763252e-01, 4.23763252e-01, 4.59021147e-01, 4.59021147e-01,\n",
       "         1.92212846e-02, 1.92212846e-02, 9.32913559e-01, 9.32913559e-01,\n",
       "         9.75923524e-01, 9.75923524e-01, 6.82541742e-01, 6.82541742e-01,\n",
       "         7.34862531e-05, 7.34862531e-05, 1.42522284e-01, 1.42522284e-01,\n",
       "         3.94180434e-02, 3.94180434e-02, 2.10487317e-01, 2.10487317e-01,\n",
       "         6.51436035e-01, 6.51436035e-01, 1.40557436e-01, 1.40557436e-01,\n",
       "         4.97154901e-01, 4.97154901e-01, 1.46283093e-01, 1.46283093e-01,\n",
       "         7.85651364e-01, 7.85651364e-01, 6.26119693e-01, 6.26119693e-01,\n",
       "         1.31856134e-01, 1.31856134e-01, 3.82363714e-01, 3.82363714e-01,\n",
       "         4.35662162e-01, 4.35662162e-01, 1.88857680e-01, 1.88857680e-01,\n",
       "         3.28396540e-01, 3.28396540e-01, 2.78825224e-02, 2.78825224e-02,\n",
       "         7.15199642e-01, 7.15199642e-01, 5.77363164e-02, 5.77363164e-02,\n",
       "         1.14498324e-01, 1.14498324e-01, 9.60731127e-01, 9.60731127e-01,\n",
       "         7.16106295e-01, 7.16106295e-01, 9.21592788e-01, 9.21592788e-01,\n",
       "         3.67297037e-02, 3.67297037e-02, 6.65690080e-01, 6.65690080e-01,\n",
       "         7.43656396e-01, 7.43656396e-01, 9.94389147e-01, 9.94389147e-01,\n",
       "         5.20547375e-01, 5.20547375e-01, 2.22449425e-01, 2.22449425e-01,\n",
       "         5.66814764e-01, 5.66814764e-01, 7.18430619e-01, 7.18430619e-01,\n",
       "         6.69200215e-01, 6.69200215e-01, 3.08987151e-01, 3.08987151e-01,\n",
       "         1.75492108e-01, 1.75492108e-01, 2.72333828e-01, 2.72333828e-01,\n",
       "         4.33243959e-01, 4.33243959e-01, 5.13784090e-01, 5.13784090e-01,\n",
       "         2.77623077e-01, 2.77623077e-01, 7.59055219e-01, 7.59055219e-01,\n",
       "         9.77602425e-01, 9.77602425e-01, 6.71066703e-01, 6.71066703e-01,\n",
       "         1.04807820e-01, 1.04807820e-01, 2.52341075e-01, 2.52341075e-01,\n",
       "         1.04313242e-01, 1.04313242e-01, 6.41410612e-01, 6.41410612e-01])}}"
      ]
     },
     "execution_count": 11,
     "metadata": {},
     "output_type": "execute_result"
    }
   ],
   "source": [
    "ds = load_by_id(run_id_n)\n",
    "ds.get_parameter_data(\"x1\")"
   ]
  },
  {
   "cell_type": "markdown",
   "metadata": {},
   "source": [
    "And a dataset stored as binary arrays"
   ]
  },
  {
   "cell_type": "code",
   "execution_count": 12,
   "metadata": {
    "execution": {
     "iopub.execute_input": "2025-01-22T09:03:05.043239Z",
     "iopub.status.busy": "2025-01-22T09:03:05.043066Z",
     "iopub.status.idle": "2025-01-22T09:03:05.059072Z",
     "shell.execute_reply": "2025-01-22T09:03:05.058530Z"
    },
    "scrolled": true
   },
   "outputs": [
    {
     "data": {
      "text/plain": [
       "{'x1': {'x1': array([[0.7250289 ],\n",
       "         [0.7250289 ],\n",
       "         [0.27876976],\n",
       "         [0.27876976],\n",
       "         [0.70196839],\n",
       "         [0.70196839],\n",
       "         [0.70227347],\n",
       "         [0.70227347],\n",
       "         [0.37697485],\n",
       "         [0.37697485],\n",
       "         [0.64504607],\n",
       "         [0.64504607],\n",
       "         [0.07994786],\n",
       "         [0.07994786],\n",
       "         [0.35656062],\n",
       "         [0.35656062],\n",
       "         [0.29117096],\n",
       "         [0.29117096],\n",
       "         [0.30426098],\n",
       "         [0.30426098],\n",
       "         [0.57884236],\n",
       "         [0.57884236],\n",
       "         [0.13122888],\n",
       "         [0.13122888],\n",
       "         [0.39040507],\n",
       "         [0.39040507],\n",
       "         [0.26623589],\n",
       "         [0.26623589],\n",
       "         [0.85475038],\n",
       "         [0.85475038],\n",
       "         [0.7863791 ],\n",
       "         [0.7863791 ],\n",
       "         [0.36907528],\n",
       "         [0.36907528],\n",
       "         [0.86105934],\n",
       "         [0.86105934],\n",
       "         [0.75398401],\n",
       "         [0.75398401],\n",
       "         [0.93946899],\n",
       "         [0.93946899],\n",
       "         [0.32687634],\n",
       "         [0.32687634],\n",
       "         [0.86014115],\n",
       "         [0.86014115],\n",
       "         [0.06041735],\n",
       "         [0.06041735],\n",
       "         [0.53579979],\n",
       "         [0.53579979],\n",
       "         [0.98639736],\n",
       "         [0.98639736],\n",
       "         [0.50747101],\n",
       "         [0.50747101],\n",
       "         [0.539019  ],\n",
       "         [0.539019  ],\n",
       "         [0.35727647],\n",
       "         [0.35727647],\n",
       "         [0.56175544],\n",
       "         [0.56175544],\n",
       "         [0.50765462],\n",
       "         [0.50765462],\n",
       "         [0.08829996],\n",
       "         [0.08829996],\n",
       "         [0.10730204],\n",
       "         [0.10730204],\n",
       "         [0.1477561 ],\n",
       "         [0.1477561 ],\n",
       "         [0.22420605],\n",
       "         [0.22420605],\n",
       "         [0.31908908],\n",
       "         [0.31908908],\n",
       "         [0.97266694],\n",
       "         [0.97266694],\n",
       "         [0.37336576],\n",
       "         [0.37336576],\n",
       "         [0.04636403],\n",
       "         [0.04636403],\n",
       "         [0.30005504],\n",
       "         [0.30005504],\n",
       "         [0.30992871],\n",
       "         [0.30992871],\n",
       "         [0.1828385 ],\n",
       "         [0.1828385 ],\n",
       "         [0.72522744],\n",
       "         [0.72522744],\n",
       "         [0.42719852],\n",
       "         [0.42719852],\n",
       "         [0.02300695],\n",
       "         [0.02300695],\n",
       "         [0.76085677],\n",
       "         [0.76085677],\n",
       "         [0.9723228 ],\n",
       "         [0.9723228 ],\n",
       "         [0.11427323],\n",
       "         [0.11427323],\n",
       "         [0.23002823],\n",
       "         [0.23002823],\n",
       "         [0.91772916],\n",
       "         [0.91772916],\n",
       "         [0.95743662],\n",
       "         [0.95743662],\n",
       "         [0.57241071],\n",
       "         [0.57241071],\n",
       "         [0.50221868],\n",
       "         [0.50221868],\n",
       "         [0.57344593],\n",
       "         [0.57344593],\n",
       "         [0.12125447],\n",
       "         [0.12125447],\n",
       "         [0.77259887],\n",
       "         [0.77259887],\n",
       "         [0.84904467],\n",
       "         [0.84904467],\n",
       "         [0.39623668],\n",
       "         [0.39623668],\n",
       "         [0.70341431],\n",
       "         [0.70341431],\n",
       "         [0.61674541],\n",
       "         [0.61674541],\n",
       "         [0.68894107],\n",
       "         [0.68894107],\n",
       "         [0.81715942],\n",
       "         [0.81715942],\n",
       "         [0.84338082],\n",
       "         [0.84338082],\n",
       "         [0.08195818],\n",
       "         [0.08195818],\n",
       "         [0.76156516],\n",
       "         [0.76156516],\n",
       "         [0.33449922],\n",
       "         [0.33449922],\n",
       "         [0.361085  ],\n",
       "         [0.361085  ],\n",
       "         [0.97181439],\n",
       "         [0.97181439],\n",
       "         [0.14942625],\n",
       "         [0.14942625],\n",
       "         [0.04988447],\n",
       "         [0.04988447],\n",
       "         [0.07720383],\n",
       "         [0.07720383],\n",
       "         [0.25381477],\n",
       "         [0.25381477],\n",
       "         [0.73705428],\n",
       "         [0.73705428],\n",
       "         [0.71707246],\n",
       "         [0.71707246],\n",
       "         [0.03473769],\n",
       "         [0.03473769],\n",
       "         [0.40683689],\n",
       "         [0.40683689],\n",
       "         [0.36850277],\n",
       "         [0.36850277],\n",
       "         [0.90205015],\n",
       "         [0.90205015],\n",
       "         [0.0128111 ],\n",
       "         [0.0128111 ],\n",
       "         [0.98901581],\n",
       "         [0.98901581],\n",
       "         [0.95501728],\n",
       "         [0.95501728],\n",
       "         [0.61537671],\n",
       "         [0.61537671],\n",
       "         [0.97219951],\n",
       "         [0.97219951],\n",
       "         [0.3645285 ],\n",
       "         [0.3645285 ],\n",
       "         [0.39625458],\n",
       "         [0.39625458],\n",
       "         [0.47964153],\n",
       "         [0.47964153],\n",
       "         [0.60849986],\n",
       "         [0.60849986],\n",
       "         [0.27754665],\n",
       "         [0.27754665],\n",
       "         [0.48356556],\n",
       "         [0.48356556],\n",
       "         [0.11633002],\n",
       "         [0.11633002],\n",
       "         [0.28573323],\n",
       "         [0.28573323],\n",
       "         [0.88455544],\n",
       "         [0.88455544],\n",
       "         [0.82906906],\n",
       "         [0.82906906],\n",
       "         [0.33597777],\n",
       "         [0.33597777],\n",
       "         [0.8149227 ],\n",
       "         [0.8149227 ],\n",
       "         [0.83340356],\n",
       "         [0.83340356],\n",
       "         [0.29779108],\n",
       "         [0.29779108],\n",
       "         [0.23113743],\n",
       "         [0.23113743],\n",
       "         [0.90500849],\n",
       "         [0.90500849],\n",
       "         [0.77567845],\n",
       "         [0.77567845],\n",
       "         [0.08959504],\n",
       "         [0.08959504]])}}"
      ]
     },
     "execution_count": 12,
     "metadata": {},
     "output_type": "execute_result"
    }
   ],
   "source": [
    "ds = load_by_id(run_id_a)\n",
    "ds.get_parameter_data(\"x1\")"
   ]
  },
  {
   "cell_type": "code",
   "execution_count": null,
   "metadata": {},
   "outputs": [],
   "source": []
  }
 ],
 "metadata": {
  "kernelspec": {
   "display_name": "Python 3",
   "language": "python",
   "name": "python3"
  },
  "language_info": {
   "codemirror_mode": {
    "name": "ipython",
    "version": 3
   },
   "file_extension": ".py",
   "mimetype": "text/x-python",
   "name": "python",
   "nbconvert_exporter": "python",
   "pygments_lexer": "ipython3",
   "version": "3.11.11"
  },
  "nbsphinx": {
   "timeout": 600
  },
  "toc": {
   "base_numbering": 1,
   "nav_menu": {},
   "number_sections": true,
   "sideBar": true,
   "skip_h1_title": false,
   "title_cell": "Table of Contents",
   "title_sidebar": "Contents",
   "toc_cell": false,
   "toc_position": {},
   "toc_section_display": true,
   "toc_window_display": false
  },
  "varInspector": {
   "cols": {
    "lenName": 16,
    "lenType": 16,
    "lenVar": 40
   },
   "kernels_config": {
    "python": {
     "delete_cmd_postfix": "",
     "delete_cmd_prefix": "del ",
     "library": "var_list.py",
     "varRefreshCmd": "print(var_dic_list())"
    },
    "r": {
     "delete_cmd_postfix": ") ",
     "delete_cmd_prefix": "rm(",
     "library": "var_list.r",
     "varRefreshCmd": "cat(var_dic_list()) "
    }
   },
   "types_to_exclude": [
    "module",
    "function",
    "builtin_function_or_method",
    "instance",
    "_Feature"
   ],
   "window_display": false
  }
 },
 "nbformat": 4,
 "nbformat_minor": 4
}
