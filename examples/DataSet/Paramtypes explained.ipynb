{
 "cells": [
  {
   "cell_type": "markdown",
   "metadata": {},
   "source": [
    "# Paramtypes explained\n",
    "\n",
    "Internally in the SQLite database on disk, data are registered as being of one of (currently) four allowed types:\n",
    "\n",
    "- `numeric`\n",
    "- `array`\n",
    "- `text`\n",
    "- `complex`\n",
    "\n",
    "This notebook seeks to exemplify when each type should be used, and how differently the `Measurement` object treats data of each type.\n",
    "\n",
    "We start with necessary imports, and then initialising our database and creating an experiment."
   ]
  },
  {
   "cell_type": "code",
   "execution_count": 1,
   "metadata": {
    "execution": {
     "iopub.execute_input": "2025-01-22T09:04:04.132641Z",
     "iopub.status.busy": "2025-01-22T09:04:04.132227Z",
     "iopub.status.idle": "2025-01-22T09:04:04.819563Z",
     "shell.execute_reply": "2025-01-22T09:04:04.818939Z"
    }
   },
   "outputs": [
    {
     "name": "stdout",
     "output_type": "stream",
     "text": [
      "Logging hadn't been started.\n",
      "Activating auto-logging. Current session state plus future input saved.\n",
      "Filename       : /home/runner/.qcodes/logs/command_history.log\n",
      "Mode           : append\n",
      "Output logging : True\n",
      "Raw input log  : False\n",
      "Timestamping   : True\n",
      "State          : active\n"
     ]
    },
    {
     "name": "stdout",
     "output_type": "stream",
     "text": [
      "Qcodes Logfile : /home/runner/.qcodes/logs/250122-16387-qcodes.log\n"
     ]
    }
   ],
   "source": [
    "import os\n",
    "import time\n",
    "\n",
    "import numpy as np\n",
    "\n",
    "from qcodes.dataset import (\n",
    "    Measurement,\n",
    "    initialise_or_create_database_at,\n",
    "    load_or_create_experiment,\n",
    ")\n",
    "from qcodes.instrument_drivers.mock_instruments import DummyInstrument\n",
    "from qcodes.parameters import ArrayParameter"
   ]
  },
  {
   "cell_type": "code",
   "execution_count": 2,
   "metadata": {
    "execution": {
     "iopub.execute_input": "2025-01-22T09:04:04.821737Z",
     "iopub.status.busy": "2025-01-22T09:04:04.821311Z",
     "iopub.status.idle": "2025-01-22T09:04:04.858705Z",
     "shell.execute_reply": "2025-01-22T09:04:04.858113Z"
    }
   },
   "outputs": [],
   "source": [
    "initialise_or_create_database_at(os.path.join(os.getcwd(), \"paramtypes_explained.db\"))\n",
    "exp = load_or_create_experiment(\"paramtypes\", sample_name=\"not_available\")"
   ]
  },
  {
   "cell_type": "markdown",
   "metadata": {},
   "source": [
    "Let us, now, create two dummy instruments to be used in our experiment."
   ]
  },
  {
   "cell_type": "code",
   "execution_count": 3,
   "metadata": {
    "execution": {
     "iopub.execute_input": "2025-01-22T09:04:04.861088Z",
     "iopub.status.busy": "2025-01-22T09:04:04.860732Z",
     "iopub.status.idle": "2025-01-22T09:04:04.864930Z",
     "shell.execute_reply": "2025-01-22T09:04:04.864347Z"
    }
   },
   "outputs": [],
   "source": [
    "dac = DummyInstrument(\"dac\", gates=[\"ch1\", \"ch2\"])\n",
    "SA = DummyInstrument(\"SA\")"
   ]
  },
  {
   "cell_type": "code",
   "execution_count": 4,
   "metadata": {
    "execution": {
     "iopub.execute_input": "2025-01-22T09:04:04.866717Z",
     "iopub.status.busy": "2025-01-22T09:04:04.866542Z",
     "iopub.status.idle": "2025-01-22T09:04:04.873738Z",
     "shell.execute_reply": "2025-01-22T09:04:04.873108Z"
    }
   },
   "outputs": [],
   "source": [
    "# some array-like data types\n",
    "\n",
    "\n",
    "class Spectrum(ArrayParameter):\n",
    "    def __init__(self, name, instrument):\n",
    "        self.N = 7\n",
    "        setpoints = (np.linspace(0, 1, self.N),)\n",
    "\n",
    "        super().__init__(\n",
    "            name=name,\n",
    "            instrument=instrument,\n",
    "            setpoints=setpoints,\n",
    "            shape=(20,),\n",
    "            label=\"Noisy spectrum\",\n",
    "            unit=\"V/sqrt(Hz)\",\n",
    "            setpoint_names=(\"Frequency\",),\n",
    "            setpoint_units=(\"Hz\",),\n",
    "        )\n",
    "\n",
    "    def get_raw(self):\n",
    "        return np.random.randn(self.N)\n",
    "\n",
    "\n",
    "class MultiDimSpectrum(ArrayParameter):\n",
    "    def __init__(self, name, instrument):\n",
    "        self.start = 0\n",
    "        self.stop = 1\n",
    "        self.npts = (2, 5, 3)\n",
    "        sp1 = np.linspace(self.start, self.stop, self.npts[0])\n",
    "        sp2 = np.linspace(self.start, self.stop, self.npts[1])\n",
    "        sp3 = np.linspace(self.start, self.stop, self.npts[2])\n",
    "        setpoints = (\n",
    "            sp1,\n",
    "            np.tile(sp2, (len(sp1), 1)),\n",
    "            np.tile(sp3, (len(sp1), len(sp2), 1)),\n",
    "        )\n",
    "        super().__init__(\n",
    "            name=name,\n",
    "            instrument=instrument,\n",
    "            setpoints=setpoints,\n",
    "            shape=(100, 50, 20),\n",
    "            label=\"Flower Power Spectrum in 3D\",\n",
    "            unit=\"V/sqrt(Hz)\",\n",
    "            setpoint_names=(\"Frequency0\", \"Frequency1\", \"Frequency2\"),\n",
    "            setpoint_units=(\"Hz\", \"Other Hz\", \"Third Hz\"),\n",
    "        )\n",
    "\n",
    "    def get_raw(self):\n",
    "        a = self.npts[0]\n",
    "        b = self.npts[1]\n",
    "        c = self.npts[2]\n",
    "        return np.reshape(np.arange(a * b * c), (a, b, c))\n",
    "\n",
    "\n",
    "# a string-valued parameter\n",
    "\n",
    "\n",
    "def dac1_too_high():\n",
    "    return \"Too high\" if dac.ch1() > 5 else \"OK\""
   ]
  },
  {
   "cell_type": "markdown",
   "metadata": {},
   "source": [
    "Finally, we add our parameters to the dummy instruments:"
   ]
  },
  {
   "cell_type": "code",
   "execution_count": 5,
   "metadata": {
    "execution": {
     "iopub.execute_input": "2025-01-22T09:04:04.875579Z",
     "iopub.status.busy": "2025-01-22T09:04:04.875407Z",
     "iopub.status.idle": "2025-01-22T09:04:04.883839Z",
     "shell.execute_reply": "2025-01-22T09:04:04.883214Z"
    }
   },
   "outputs": [
    {
     "name": "stderr",
     "output_type": "stream",
     "text": [
      "2025-01-22 09:04:04,877 ¦ py.warnings ¦ WARNING ¦ warnings ¦ _showwarnmsg ¦ 110 ¦ /opt/hostedtoolcache/Python/3.11.11/x64/lib/python3.11/site-packages/qcodes/instrument/instrument_base.py:183: QCoDeSDeprecationWarning: Parameter spectrum on instrument SA does not correctly pass kwargs to its baseclass. A Parameter class must take `**kwargs` and forward them to its baseclass.\n",
      "  warnings.warn(\n",
      "\n"
     ]
    },
    {
     "name": "stderr",
     "output_type": "stream",
     "text": [
      "2025-01-22 09:04:04,878 ¦ py.warnings ¦ WARNING ¦ warnings ¦ _showwarnmsg ¦ 110 ¦ /opt/hostedtoolcache/Python/3.11.11/x64/lib/python3.11/site-packages/qcodes/instrument/instrument_base.py:183: QCoDeSDeprecationWarning: Parameter spectrum3D on instrument SA does not correctly pass kwargs to its baseclass. A Parameter class must take `**kwargs` and forward them to its baseclass.\n",
      "  warnings.warn(\n",
      "\n"
     ]
    },
    {
     "data": {
      "text/plain": [
       "<__main__.MultiDimSpectrum: spectrum3D at 139642409839760>"
      ]
     },
     "execution_count": 5,
     "metadata": {},
     "output_type": "execute_result"
    }
   ],
   "source": [
    "dac.add_parameter(\"control\", get_cmd=dac1_too_high)\n",
    "SA.add_parameter(\"spectrum\", parameter_class=Spectrum)\n",
    "SA.add_parameter(\"spectrum3D\", parameter_class=MultiDimSpectrum)"
   ]
  },
  {
   "cell_type": "markdown",
   "metadata": {},
   "source": [
    "## Numeric"
   ]
  },
  {
   "cell_type": "markdown",
   "metadata": {},
   "source": [
    "The `numeric` datatype is simply a number. Data registered with this type are saved as individual numbers. This is the **default** datatype when registering parameters.\n",
    "\n",
    "### Numeric example 1\n",
    "\n",
    "In this example, all parameters get registered as `numeric` type. This entails that the array in unraveled and inserted point-by-point."
   ]
  },
  {
   "cell_type": "code",
   "execution_count": 6,
   "metadata": {
    "execution": {
     "iopub.execute_input": "2025-01-22T09:04:04.885747Z",
     "iopub.status.busy": "2025-01-22T09:04:04.885571Z",
     "iopub.status.idle": "2025-01-22T09:04:04.908818Z",
     "shell.execute_reply": "2025-01-22T09:04:04.908216Z"
    }
   },
   "outputs": [
    {
     "name": "stdout",
     "output_type": "stream",
     "text": [
      "Starting experimental run with id: 1. \n",
      "Finished run in 0.019 s\n"
     ]
    }
   ],
   "source": [
    "meas = Measurement(exp=exp)\n",
    "meas.register_parameter(dac.ch1)\n",
    "meas.register_parameter(SA.spectrum, setpoints=(dac.ch1,))\n",
    "\n",
    "t0 = time.perf_counter()\n",
    "\n",
    "with meas.run() as datasaver:\n",
    "    for dac_v in np.linspace(0, 2, 5):\n",
    "        dac.ch1(dac_v)\n",
    "        datasaver.add_result((dac.ch1, dac_v), (SA.spectrum, SA.spectrum()))\n",
    "\n",
    "t1 = time.perf_counter()\n",
    "\n",
    "print(f\"Finished run in {(t1 - t0):.3f} s\")\n",
    "\n",
    "dataset1 = datasaver.dataset"
   ]
  },
  {
   "cell_type": "markdown",
   "metadata": {},
   "source": [
    "The data may be retrieved using the `get_parameter_data` method. This function will bring back the data in a way that reflects the datastructure as it is stored."
   ]
  },
  {
   "cell_type": "code",
   "execution_count": 7,
   "metadata": {
    "execution": {
     "iopub.execute_input": "2025-01-22T09:04:04.910801Z",
     "iopub.status.busy": "2025-01-22T09:04:04.910531Z",
     "iopub.status.idle": "2025-01-22T09:04:04.916921Z",
     "shell.execute_reply": "2025-01-22T09:04:04.916363Z"
    }
   },
   "outputs": [
    {
     "data": {
      "text/plain": [
       "{'SA_spectrum': {'SA_spectrum': array([[-0.94840795,  0.15018687,  0.21420322, -1.0900081 ,  0.28677323,\n",
       "          -0.3639393 ,  0.3736553 ],\n",
       "         [ 0.61217601,  1.44115305,  0.76551415, -0.32804636, -0.13145505,\n",
       "          -0.65635664, -0.28476847],\n",
       "         [-0.44015586, -0.08510445, -0.72094477,  0.76343364,  1.92800502,\n",
       "          -0.25067874,  0.46374478],\n",
       "         [ 0.46822679,  0.35303618,  1.37975071,  2.12857076, -1.09337072,\n",
       "           0.38022271, -0.94731075],\n",
       "         [ 0.64786907, -0.82338928,  0.20836443,  2.07361141,  2.09123066,\n",
       "          -0.26097026, -1.23821977]]),\n",
       "  'dac_ch1': array([[0. , 0. , 0. , 0. , 0. , 0. , 0. ],\n",
       "         [0.5, 0.5, 0.5, 0.5, 0.5, 0.5, 0.5],\n",
       "         [1. , 1. , 1. , 1. , 1. , 1. , 1. ],\n",
       "         [1.5, 1.5, 1.5, 1.5, 1.5, 1.5, 1.5],\n",
       "         [2. , 2. , 2. , 2. , 2. , 2. , 2. ]]),\n",
       "  'SA_Frequency': array([[0.        , 0.16666667, 0.33333333, 0.5       , 0.66666667,\n",
       "          0.83333333, 1.        ],\n",
       "         [0.        , 0.16666667, 0.33333333, 0.5       , 0.66666667,\n",
       "          0.83333333, 1.        ],\n",
       "         [0.        , 0.16666667, 0.33333333, 0.5       , 0.66666667,\n",
       "          0.83333333, 1.        ],\n",
       "         [0.        , 0.16666667, 0.33333333, 0.5       , 0.66666667,\n",
       "          0.83333333, 1.        ],\n",
       "         [0.        , 0.16666667, 0.33333333, 0.5       , 0.66666667,\n",
       "          0.83333333, 1.        ]])}}"
      ]
     },
     "execution_count": 7,
     "metadata": {},
     "output_type": "execute_result"
    }
   ],
   "source": [
    "dataset1.get_parameter_data()"
   ]
  },
  {
   "cell_type": "markdown",
   "metadata": {},
   "source": [
    "## Array\n",
    "\n",
    "The `array` paramtype stores data as binary blobs in the database. Insertion is faster (asymptotically **much** faster) this way, but the data are \"dead\" to SQL queries inside the database. Be informed that a BLOB in sqlite has a default max length limit set at 1 billion (1,000,000,000) bytes (for more information, refer to [Sqlite](https://sqlite.org/limits.html) docs)."
   ]
  },
  {
   "cell_type": "markdown",
   "metadata": {},
   "source": [
    "### Array example 1\n",
    "\n",
    "Let us repeat the above measurement, but this time using `array` paramtypes."
   ]
  },
  {
   "cell_type": "code",
   "execution_count": 8,
   "metadata": {
    "execution": {
     "iopub.execute_input": "2025-01-22T09:04:04.918712Z",
     "iopub.status.busy": "2025-01-22T09:04:04.918537Z",
     "iopub.status.idle": "2025-01-22T09:04:04.934651Z",
     "shell.execute_reply": "2025-01-22T09:04:04.934038Z"
    }
   },
   "outputs": [
    {
     "name": "stdout",
     "output_type": "stream",
     "text": [
      "Starting experimental run with id: 2. \n",
      "Finished run in 0.011 s\n"
     ]
    }
   ],
   "source": [
    "meas = Measurement(exp=exp)\n",
    "meas.register_parameter(dac.ch1)\n",
    "meas.register_parameter(SA.spectrum, setpoints=(dac.ch1,), paramtype=\"array\")\n",
    "\n",
    "t0 = time.perf_counter()\n",
    "\n",
    "with meas.run() as datasaver:\n",
    "    for dac_v in np.linspace(0, 2, 5):\n",
    "        dac.ch1(dac_v)\n",
    "        datasaver.add_result((dac.ch1, dac_v), (SA.spectrum, SA.spectrum()))\n",
    "\n",
    "t1 = time.perf_counter()\n",
    "\n",
    "print(f\"Finished run in {(t1 - t0):.3f} s\")\n",
    "\n",
    "dataset2 = datasaver.dataset"
   ]
  },
  {
   "cell_type": "code",
   "execution_count": 9,
   "metadata": {
    "execution": {
     "iopub.execute_input": "2025-01-22T09:04:04.936287Z",
     "iopub.status.busy": "2025-01-22T09:04:04.936098Z",
     "iopub.status.idle": "2025-01-22T09:04:04.942038Z",
     "shell.execute_reply": "2025-01-22T09:04:04.941473Z"
    }
   },
   "outputs": [
    {
     "data": {
      "text/plain": [
       "{'SA_spectrum': {'SA_spectrum': array([[ 1.16746956,  0.21655194, -0.87849378,  0.03604553, -0.32559125,\n",
       "          -0.18357161,  1.47773253],\n",
       "         [ 2.33295701, -0.14536212,  0.84652697, -1.29861852, -1.95723706,\n",
       "          -1.04954785,  0.60584646],\n",
       "         [ 0.87914497,  0.62565872, -0.10930532, -0.69082945, -0.5524123 ,\n",
       "           1.37156883, -0.01934879],\n",
       "         [-1.39681643, -0.10802881,  0.97999472, -1.41603032,  0.21153754,\n",
       "           0.02234342, -0.6753702 ],\n",
       "         [-0.1456713 , -1.98686646, -1.42841788, -0.08365563, -0.20662653,\n",
       "           1.91231418,  0.66548975]]),\n",
       "  'dac_ch1': array([[0. , 0. , 0. , 0. , 0. , 0. , 0. ],\n",
       "         [0.5, 0.5, 0.5, 0.5, 0.5, 0.5, 0.5],\n",
       "         [1. , 1. , 1. , 1. , 1. , 1. , 1. ],\n",
       "         [1.5, 1.5, 1.5, 1.5, 1.5, 1.5, 1.5],\n",
       "         [2. , 2. , 2. , 2. , 2. , 2. , 2. ]]),\n",
       "  'SA_Frequency': array([[0.        , 0.16666667, 0.33333333, 0.5       , 0.66666667,\n",
       "          0.83333333, 1.        ],\n",
       "         [0.        , 0.16666667, 0.33333333, 0.5       , 0.66666667,\n",
       "          0.83333333, 1.        ],\n",
       "         [0.        , 0.16666667, 0.33333333, 0.5       , 0.66666667,\n",
       "          0.83333333, 1.        ],\n",
       "         [0.        , 0.16666667, 0.33333333, 0.5       , 0.66666667,\n",
       "          0.83333333, 1.        ],\n",
       "         [0.        , 0.16666667, 0.33333333, 0.5       , 0.66666667,\n",
       "          0.83333333, 1.        ]])}}"
      ]
     },
     "execution_count": 9,
     "metadata": {},
     "output_type": "execute_result"
    }
   ],
   "source": [
    "dataset2.get_parameter_data()"
   ]
  },
  {
   "cell_type": "markdown",
   "metadata": {},
   "source": [
    "### Array example 2\n",
    "\n",
    "When storing multidimensional `array` data (think: Alazar cards), both `numeric` and `array` types can be used."
   ]
  },
  {
   "cell_type": "code",
   "execution_count": 10,
   "metadata": {
    "execution": {
     "iopub.execute_input": "2025-01-22T09:04:04.943753Z",
     "iopub.status.busy": "2025-01-22T09:04:04.943586Z",
     "iopub.status.idle": "2025-01-22T09:04:04.960478Z",
     "shell.execute_reply": "2025-01-22T09:04:04.959942Z"
    }
   },
   "outputs": [
    {
     "name": "stdout",
     "output_type": "stream",
     "text": [
      "Starting experimental run with id: 3. \n"
     ]
    }
   ],
   "source": [
    "meas = Measurement(exp=exp)\n",
    "meas.register_parameter(SA.spectrum3D, paramtype=\"array\")\n",
    "\n",
    "with meas.run() as datasaver:\n",
    "    datasaver.add_result((SA.spectrum3D, SA.spectrum3D()))\n",
    "dataset3 = datasaver.dataset"
   ]
  },
  {
   "cell_type": "markdown",
   "metadata": {},
   "source": [
    "The data come out the way we expect them to."
   ]
  },
  {
   "cell_type": "code",
   "execution_count": 11,
   "metadata": {
    "execution": {
     "iopub.execute_input": "2025-01-22T09:04:04.962319Z",
     "iopub.status.busy": "2025-01-22T09:04:04.961931Z",
     "iopub.status.idle": "2025-01-22T09:04:04.967929Z",
     "shell.execute_reply": "2025-01-22T09:04:04.967331Z"
    }
   },
   "outputs": [
    {
     "data": {
      "text/plain": [
       "{'SA_spectrum3D': {'SA_spectrum3D': array([[[[ 0,  1,  2],\n",
       "           [ 3,  4,  5],\n",
       "           [ 6,  7,  8],\n",
       "           [ 9, 10, 11],\n",
       "           [12, 13, 14]],\n",
       "  \n",
       "          [[15, 16, 17],\n",
       "           [18, 19, 20],\n",
       "           [21, 22, 23],\n",
       "           [24, 25, 26],\n",
       "           [27, 28, 29]]]]),\n",
       "  'SA_Frequency0': array([[[[0., 0., 0.],\n",
       "           [0., 0., 0.],\n",
       "           [0., 0., 0.],\n",
       "           [0., 0., 0.],\n",
       "           [0., 0., 0.]],\n",
       "  \n",
       "          [[1., 1., 1.],\n",
       "           [1., 1., 1.],\n",
       "           [1., 1., 1.],\n",
       "           [1., 1., 1.],\n",
       "           [1., 1., 1.]]]]),\n",
       "  'SA_Frequency1': array([[[[0.  , 0.  , 0.  ],\n",
       "           [0.25, 0.25, 0.25],\n",
       "           [0.5 , 0.5 , 0.5 ],\n",
       "           [0.75, 0.75, 0.75],\n",
       "           [1.  , 1.  , 1.  ]],\n",
       "  \n",
       "          [[0.  , 0.  , 0.  ],\n",
       "           [0.25, 0.25, 0.25],\n",
       "           [0.5 , 0.5 , 0.5 ],\n",
       "           [0.75, 0.75, 0.75],\n",
       "           [1.  , 1.  , 1.  ]]]]),\n",
       "  'SA_Frequency2': array([[[[0. , 0.5, 1. ],\n",
       "           [0. , 0.5, 1. ],\n",
       "           [0. , 0.5, 1. ],\n",
       "           [0. , 0.5, 1. ],\n",
       "           [0. , 0.5, 1. ]],\n",
       "  \n",
       "          [[0. , 0.5, 1. ],\n",
       "           [0. , 0.5, 1. ],\n",
       "           [0. , 0.5, 1. ],\n",
       "           [0. , 0.5, 1. ],\n",
       "           [0. , 0.5, 1. ]]]])}}"
      ]
     },
     "execution_count": 11,
     "metadata": {},
     "output_type": "execute_result"
    }
   ],
   "source": [
    "dataset3.get_parameter_data()"
   ]
  },
  {
   "cell_type": "markdown",
   "metadata": {},
   "source": [
    "### Array example 3\n",
    "\n",
    "For completeness, here, we provide an example where the multidimensional array has an auxiliary setpoint."
   ]
  },
  {
   "cell_type": "code",
   "execution_count": 12,
   "metadata": {
    "execution": {
     "iopub.execute_input": "2025-01-22T09:04:04.969665Z",
     "iopub.status.busy": "2025-01-22T09:04:04.969496Z",
     "iopub.status.idle": "2025-01-22T09:04:04.991708Z",
     "shell.execute_reply": "2025-01-22T09:04:04.991120Z"
    }
   },
   "outputs": [
    {
     "name": "stdout",
     "output_type": "stream",
     "text": [
      "Starting experimental run with id: 4. \n"
     ]
    }
   ],
   "source": [
    "meas = Measurement(exp=exp)\n",
    "meas.register_parameter(dac.ch1)\n",
    "meas.register_parameter(SA.spectrum3D, paramtype=\"array\", setpoints=(dac.ch1,))\n",
    "\n",
    "with meas.run() as datasaver:\n",
    "    for dac_v in [3, 4, 5]:\n",
    "        dac.ch1(dac_v)\n",
    "        datasaver.add_result((dac.ch1, dac_v), (SA.spectrum3D, SA.spectrum3D()))\n",
    "dataset4 = datasaver.dataset"
   ]
  },
  {
   "cell_type": "code",
   "execution_count": 13,
   "metadata": {
    "execution": {
     "iopub.execute_input": "2025-01-22T09:04:04.993719Z",
     "iopub.status.busy": "2025-01-22T09:04:04.993174Z",
     "iopub.status.idle": "2025-01-22T09:04:05.001007Z",
     "shell.execute_reply": "2025-01-22T09:04:05.000431Z"
    }
   },
   "outputs": [
    {
     "data": {
      "text/plain": [
       "{'SA_spectrum3D': {'SA_spectrum3D': array([[[[ 0,  1,  2],\n",
       "           [ 3,  4,  5],\n",
       "           [ 6,  7,  8],\n",
       "           [ 9, 10, 11],\n",
       "           [12, 13, 14]],\n",
       "  \n",
       "          [[15, 16, 17],\n",
       "           [18, 19, 20],\n",
       "           [21, 22, 23],\n",
       "           [24, 25, 26],\n",
       "           [27, 28, 29]]],\n",
       "  \n",
       "  \n",
       "         [[[ 0,  1,  2],\n",
       "           [ 3,  4,  5],\n",
       "           [ 6,  7,  8],\n",
       "           [ 9, 10, 11],\n",
       "           [12, 13, 14]],\n",
       "  \n",
       "          [[15, 16, 17],\n",
       "           [18, 19, 20],\n",
       "           [21, 22, 23],\n",
       "           [24, 25, 26],\n",
       "           [27, 28, 29]]],\n",
       "  \n",
       "  \n",
       "         [[[ 0,  1,  2],\n",
       "           [ 3,  4,  5],\n",
       "           [ 6,  7,  8],\n",
       "           [ 9, 10, 11],\n",
       "           [12, 13, 14]],\n",
       "  \n",
       "          [[15, 16, 17],\n",
       "           [18, 19, 20],\n",
       "           [21, 22, 23],\n",
       "           [24, 25, 26],\n",
       "           [27, 28, 29]]]]),\n",
       "  'dac_ch1': array([[[[3., 3., 3.],\n",
       "           [3., 3., 3.],\n",
       "           [3., 3., 3.],\n",
       "           [3., 3., 3.],\n",
       "           [3., 3., 3.]],\n",
       "  \n",
       "          [[3., 3., 3.],\n",
       "           [3., 3., 3.],\n",
       "           [3., 3., 3.],\n",
       "           [3., 3., 3.],\n",
       "           [3., 3., 3.]]],\n",
       "  \n",
       "  \n",
       "         [[[4., 4., 4.],\n",
       "           [4., 4., 4.],\n",
       "           [4., 4., 4.],\n",
       "           [4., 4., 4.],\n",
       "           [4., 4., 4.]],\n",
       "  \n",
       "          [[4., 4., 4.],\n",
       "           [4., 4., 4.],\n",
       "           [4., 4., 4.],\n",
       "           [4., 4., 4.],\n",
       "           [4., 4., 4.]]],\n",
       "  \n",
       "  \n",
       "         [[[5., 5., 5.],\n",
       "           [5., 5., 5.],\n",
       "           [5., 5., 5.],\n",
       "           [5., 5., 5.],\n",
       "           [5., 5., 5.]],\n",
       "  \n",
       "          [[5., 5., 5.],\n",
       "           [5., 5., 5.],\n",
       "           [5., 5., 5.],\n",
       "           [5., 5., 5.],\n",
       "           [5., 5., 5.]]]]),\n",
       "  'SA_Frequency0': array([[[[0., 0., 0.],\n",
       "           [0., 0., 0.],\n",
       "           [0., 0., 0.],\n",
       "           [0., 0., 0.],\n",
       "           [0., 0., 0.]],\n",
       "  \n",
       "          [[1., 1., 1.],\n",
       "           [1., 1., 1.],\n",
       "           [1., 1., 1.],\n",
       "           [1., 1., 1.],\n",
       "           [1., 1., 1.]]],\n",
       "  \n",
       "  \n",
       "         [[[0., 0., 0.],\n",
       "           [0., 0., 0.],\n",
       "           [0., 0., 0.],\n",
       "           [0., 0., 0.],\n",
       "           [0., 0., 0.]],\n",
       "  \n",
       "          [[1., 1., 1.],\n",
       "           [1., 1., 1.],\n",
       "           [1., 1., 1.],\n",
       "           [1., 1., 1.],\n",
       "           [1., 1., 1.]]],\n",
       "  \n",
       "  \n",
       "         [[[0., 0., 0.],\n",
       "           [0., 0., 0.],\n",
       "           [0., 0., 0.],\n",
       "           [0., 0., 0.],\n",
       "           [0., 0., 0.]],\n",
       "  \n",
       "          [[1., 1., 1.],\n",
       "           [1., 1., 1.],\n",
       "           [1., 1., 1.],\n",
       "           [1., 1., 1.],\n",
       "           [1., 1., 1.]]]]),\n",
       "  'SA_Frequency1': array([[[[0.  , 0.  , 0.  ],\n",
       "           [0.25, 0.25, 0.25],\n",
       "           [0.5 , 0.5 , 0.5 ],\n",
       "           [0.75, 0.75, 0.75],\n",
       "           [1.  , 1.  , 1.  ]],\n",
       "  \n",
       "          [[0.  , 0.  , 0.  ],\n",
       "           [0.25, 0.25, 0.25],\n",
       "           [0.5 , 0.5 , 0.5 ],\n",
       "           [0.75, 0.75, 0.75],\n",
       "           [1.  , 1.  , 1.  ]]],\n",
       "  \n",
       "  \n",
       "         [[[0.  , 0.  , 0.  ],\n",
       "           [0.25, 0.25, 0.25],\n",
       "           [0.5 , 0.5 , 0.5 ],\n",
       "           [0.75, 0.75, 0.75],\n",
       "           [1.  , 1.  , 1.  ]],\n",
       "  \n",
       "          [[0.  , 0.  , 0.  ],\n",
       "           [0.25, 0.25, 0.25],\n",
       "           [0.5 , 0.5 , 0.5 ],\n",
       "           [0.75, 0.75, 0.75],\n",
       "           [1.  , 1.  , 1.  ]]],\n",
       "  \n",
       "  \n",
       "         [[[0.  , 0.  , 0.  ],\n",
       "           [0.25, 0.25, 0.25],\n",
       "           [0.5 , 0.5 , 0.5 ],\n",
       "           [0.75, 0.75, 0.75],\n",
       "           [1.  , 1.  , 1.  ]],\n",
       "  \n",
       "          [[0.  , 0.  , 0.  ],\n",
       "           [0.25, 0.25, 0.25],\n",
       "           [0.5 , 0.5 , 0.5 ],\n",
       "           [0.75, 0.75, 0.75],\n",
       "           [1.  , 1.  , 1.  ]]]]),\n",
       "  'SA_Frequency2': array([[[[0. , 0.5, 1. ],\n",
       "           [0. , 0.5, 1. ],\n",
       "           [0. , 0.5, 1. ],\n",
       "           [0. , 0.5, 1. ],\n",
       "           [0. , 0.5, 1. ]],\n",
       "  \n",
       "          [[0. , 0.5, 1. ],\n",
       "           [0. , 0.5, 1. ],\n",
       "           [0. , 0.5, 1. ],\n",
       "           [0. , 0.5, 1. ],\n",
       "           [0. , 0.5, 1. ]]],\n",
       "  \n",
       "  \n",
       "         [[[0. , 0.5, 1. ],\n",
       "           [0. , 0.5, 1. ],\n",
       "           [0. , 0.5, 1. ],\n",
       "           [0. , 0.5, 1. ],\n",
       "           [0. , 0.5, 1. ]],\n",
       "  \n",
       "          [[0. , 0.5, 1. ],\n",
       "           [0. , 0.5, 1. ],\n",
       "           [0. , 0.5, 1. ],\n",
       "           [0. , 0.5, 1. ],\n",
       "           [0. , 0.5, 1. ]]],\n",
       "  \n",
       "  \n",
       "         [[[0. , 0.5, 1. ],\n",
       "           [0. , 0.5, 1. ],\n",
       "           [0. , 0.5, 1. ],\n",
       "           [0. , 0.5, 1. ],\n",
       "           [0. , 0.5, 1. ]],\n",
       "  \n",
       "          [[0. , 0.5, 1. ],\n",
       "           [0. , 0.5, 1. ],\n",
       "           [0. , 0.5, 1. ],\n",
       "           [0. , 0.5, 1. ],\n",
       "           [0. , 0.5, 1. ]]]])}}"
      ]
     },
     "execution_count": 13,
     "metadata": {},
     "output_type": "execute_result"
    }
   ],
   "source": [
    "dataset4.get_parameter_data()"
   ]
  },
  {
   "cell_type": "markdown",
   "metadata": {},
   "source": [
    "## Text\n",
    "\n",
    "Text is strings. Sometimes it may be useful to capture categorial data that is represented as string values, or a log message, or else.\n",
    "\n",
    "Note that the `paramtype` setting is important. The datasaver will not allow to save `numeric` data for a parameter that was registered as `text`. The opposite it also true: the datasaver will not allow to save strings for a parameter what was registered as non-`text` (`numeric` or `array`)."
   ]
  },
  {
   "cell_type": "code",
   "execution_count": 14,
   "metadata": {
    "execution": {
     "iopub.execute_input": "2025-01-22T09:04:05.002943Z",
     "iopub.status.busy": "2025-01-22T09:04:05.002777Z",
     "iopub.status.idle": "2025-01-22T09:04:05.018427Z",
     "shell.execute_reply": "2025-01-22T09:04:05.017838Z"
    }
   },
   "outputs": [
    {
     "name": "stdout",
     "output_type": "stream",
     "text": [
      "Starting experimental run with id: 5. \n"
     ]
    }
   ],
   "source": [
    "meas = Measurement(exp=exp)\n",
    "meas.register_parameter(dac.ch1)\n",
    "meas.register_parameter(dac.control, setpoints=(dac.ch1,), paramtype=\"text\")\n",
    "\n",
    "with meas.run() as datasaver:\n",
    "    for dac_v in np.linspace(4, 6, 10):\n",
    "        dac.ch1(dac_v)\n",
    "        datasaver.add_result((dac.ch1, dac_v), (dac.control, dac.control()))\n",
    "dataset5 = datasaver.dataset"
   ]
  },
  {
   "cell_type": "code",
   "execution_count": 15,
   "metadata": {
    "execution": {
     "iopub.execute_input": "2025-01-22T09:04:05.020390Z",
     "iopub.status.busy": "2025-01-22T09:04:05.019972Z",
     "iopub.status.idle": "2025-01-22T09:04:05.025320Z",
     "shell.execute_reply": "2025-01-22T09:04:05.024714Z"
    }
   },
   "outputs": [
    {
     "data": {
      "text/plain": [
       "{'dac_control': {'dac_control': array(['OK', 'OK', 'OK', 'OK', 'OK', 'Too high', 'Too high', 'Too high',\n",
       "         'Too high', 'Too high'], dtype='<U8'),\n",
       "  'dac_ch1': array([4.        , 4.22222222, 4.44444444, 4.66666667, 4.88888889,\n",
       "         5.11111111, 5.33333333, 5.55555556, 5.77777778, 6.        ])}}"
      ]
     },
     "execution_count": 15,
     "metadata": {},
     "output_type": "execute_result"
    }
   ],
   "source": [
    "dataset5.get_parameter_data()"
   ]
  },
  {
   "cell_type": "code",
   "execution_count": null,
   "metadata": {},
   "outputs": [],
   "source": []
  }
 ],
 "metadata": {
  "kernelspec": {
   "display_name": "Python 3",
   "language": "python",
   "name": "python3"
  },
  "language_info": {
   "codemirror_mode": {
    "name": "ipython",
    "version": 3
   },
   "file_extension": ".py",
   "mimetype": "text/x-python",
   "name": "python",
   "nbconvert_exporter": "python",
   "pygments_lexer": "ipython3",
   "version": "3.11.11"
  }
 },
 "nbformat": 4,
 "nbformat_minor": 4
}
