{
 "cells": [
  {
   "cell_type": "markdown",
   "metadata": {},
   "source": [
    "# Dataset Benchmarking\n",
    "\n",
    "This notebook is a behind-the-scenes benchmarking notebook, mainly for use by developers. The recommended way for users to interact with the dataset is via the `Measurement` object and its associated context manager. See the corresponding notebook for a comprehensive toturial on how to use those."
   ]
  },
  {
   "cell_type": "code",
   "execution_count": 1,
   "metadata": {
    "execution": {
     "iopub.execute_input": "2025-01-22T09:05:33.085592Z",
     "iopub.status.busy": "2025-01-22T09:05:33.085128Z",
     "iopub.status.idle": "2025-01-22T09:05:34.077429Z",
     "shell.execute_reply": "2025-01-22T09:05:34.076744Z"
    }
   },
   "outputs": [
    {
     "name": "stdout",
     "output_type": "stream",
     "text": [
      "Logging hadn't been started.\n",
      "Activating auto-logging. Current session state plus future input saved.\n",
      "Filename       : /home/runner/.qcodes/logs/command_history.log\n",
      "Mode           : append\n",
      "Output logging : True\n",
      "Raw input log  : False\n",
      "Timestamping   : True\n",
      "State          : active\n"
     ]
    },
    {
     "name": "stdout",
     "output_type": "stream",
     "text": [
      "Qcodes Logfile : /home/runner/.qcodes/logs/250122-18043-qcodes.log\n"
     ]
    }
   ],
   "source": [
    "%matplotlib inline\n",
    "from pathlib import Path\n",
    "\n",
    "import numpy as np\n",
    "\n",
    "import qcodes as qc\n",
    "from qcodes.dataset import (\n",
    "    ParamSpec,\n",
    "    initialise_or_create_database_at,\n",
    "    load_or_create_experiment,\n",
    "    new_data_set,\n",
    ")"
   ]
  },
  {
   "cell_type": "code",
   "execution_count": 2,
   "metadata": {
    "execution": {
     "iopub.execute_input": "2025-01-22T09:05:34.079236Z",
     "iopub.status.busy": "2025-01-22T09:05:34.079053Z",
     "iopub.status.idle": "2025-01-22T09:05:34.083965Z",
     "shell.execute_reply": "2025-01-22T09:05:34.083395Z"
    }
   },
   "outputs": [
    {
     "data": {
      "text/plain": [
       "'~/experiments.db'"
      ]
     },
     "execution_count": 2,
     "metadata": {},
     "output_type": "execute_result"
    }
   ],
   "source": [
    "qc.config.core.db_location"
   ]
  },
  {
   "cell_type": "code",
   "execution_count": 3,
   "metadata": {
    "execution": {
     "iopub.execute_input": "2025-01-22T09:05:34.086083Z",
     "iopub.status.busy": "2025-01-22T09:05:34.085582Z",
     "iopub.status.idle": "2025-01-22T09:05:34.118387Z",
     "shell.execute_reply": "2025-01-22T09:05:34.117810Z"
    }
   },
   "outputs": [],
   "source": [
    "initialise_or_create_database_at(Path.cwd() / \"benchmarking.db\")"
   ]
  },
  {
   "cell_type": "markdown",
   "metadata": {},
   "source": [
    "## Setup"
   ]
  },
  {
   "cell_type": "code",
   "execution_count": 4,
   "metadata": {
    "execution": {
     "iopub.execute_input": "2025-01-22T09:05:34.120147Z",
     "iopub.status.busy": "2025-01-22T09:05:34.119973Z",
     "iopub.status.idle": "2025-01-22T09:05:34.126517Z",
     "shell.execute_reply": "2025-01-22T09:05:34.125954Z"
    }
   },
   "outputs": [
    {
     "data": {
      "text/plain": [
       "benchmarking#the sample is a lie#1@/home/runner/work/Qcodes/Qcodes/docs/examples/DataSet/benchmarking.db\n",
       "--------------------------------------------------------------------------------------------------------"
      ]
     },
     "execution_count": 4,
     "metadata": {},
     "output_type": "execute_result"
    }
   ],
   "source": [
    "exp = load_or_create_experiment(\"benchmarking\", sample_name=\"the sample is a lie\")\n",
    "exp"
   ]
  },
  {
   "cell_type": "markdown",
   "metadata": {},
   "source": [
    "Now we can create a dataset. Note two things:\n",
    "\n",
    "    - if we don't specfiy a exp_id, but we have an experiment in the experiment container the dataset will go into that one.\n",
    "    - dataset can be created from the experiment object\n",
    "    "
   ]
  },
  {
   "cell_type": "code",
   "execution_count": 5,
   "metadata": {
    "execution": {
     "iopub.execute_input": "2025-01-22T09:05:34.128561Z",
     "iopub.status.busy": "2025-01-22T09:05:34.128136Z",
     "iopub.status.idle": "2025-01-22T09:05:34.136161Z",
     "shell.execute_reply": "2025-01-22T09:05:34.135624Z"
    }
   },
   "outputs": [
    {
     "data": {
      "text/plain": [
       "benchmarking#the sample is a lie#1@/home/runner/work/Qcodes/Qcodes/docs/examples/DataSet/benchmarking.db\n",
       "--------------------------------------------------------------------------------------------------------\n",
       "1-benchmark_data-1-None-0"
      ]
     },
     "execution_count": 5,
     "metadata": {},
     "output_type": "execute_result"
    }
   ],
   "source": [
    "dataSet = new_data_set(\"benchmark_data\", exp_id=exp.exp_id)\n",
    "exp"
   ]
  },
  {
   "cell_type": "markdown",
   "metadata": {},
   "source": [
    "In this benchmark we will assueme that we are doing a 2D loop and investigate the performance implications of writing to the dataset"
   ]
  },
  {
   "cell_type": "code",
   "execution_count": 6,
   "metadata": {
    "execution": {
     "iopub.execute_input": "2025-01-22T09:05:34.137985Z",
     "iopub.status.busy": "2025-01-22T09:05:34.137810Z",
     "iopub.status.idle": "2025-01-22T09:05:34.140776Z",
     "shell.execute_reply": "2025-01-22T09:05:34.140185Z"
    }
   },
   "outputs": [],
   "source": [
    "x_shape = 100\n",
    "y_shape = 100"
   ]
  },
  {
   "cell_type": "markdown",
   "metadata": {},
   "source": [
    "## Baseline: Generate data"
   ]
  },
  {
   "cell_type": "code",
   "execution_count": 7,
   "metadata": {
    "execution": {
     "iopub.execute_input": "2025-01-22T09:05:34.142765Z",
     "iopub.status.busy": "2025-01-22T09:05:34.142302Z",
     "iopub.status.idle": "2025-01-22T09:05:34.156880Z",
     "shell.execute_reply": "2025-01-22T09:05:34.156305Z"
    }
   },
   "outputs": [
    {
     "name": "stdout",
     "output_type": "stream",
     "text": [
      "CPU times: user 11.1 ms, sys: 0 ns, total: 11.1 ms\n",
      "Wall time: 10.9 ms\n"
     ]
    }
   ],
   "source": [
    "%%time\n",
    "for x in range(x_shape):\n",
    "    for y in range(y_shape):\n",
    "        z = np.random.random_sample(1)"
   ]
  },
  {
   "cell_type": "markdown",
   "metadata": {},
   "source": [
    "and store in memory"
   ]
  },
  {
   "cell_type": "code",
   "execution_count": 8,
   "metadata": {
    "execution": {
     "iopub.execute_input": "2025-01-22T09:05:34.159029Z",
     "iopub.status.busy": "2025-01-22T09:05:34.158510Z",
     "iopub.status.idle": "2025-01-22T09:05:34.162519Z",
     "shell.execute_reply": "2025-01-22T09:05:34.161918Z"
    }
   },
   "outputs": [],
   "source": [
    "x_data = np.zeros((x_shape, y_shape))\n",
    "y_data = np.zeros((x_shape, y_shape))\n",
    "z_data = np.zeros((x_shape, y_shape))"
   ]
  },
  {
   "cell_type": "code",
   "execution_count": 9,
   "metadata": {
    "execution": {
     "iopub.execute_input": "2025-01-22T09:05:34.164426Z",
     "iopub.status.busy": "2025-01-22T09:05:34.164239Z",
     "iopub.status.idle": "2025-01-22T09:05:34.175610Z",
     "shell.execute_reply": "2025-01-22T09:05:34.175016Z"
    }
   },
   "outputs": [
    {
     "name": "stdout",
     "output_type": "stream",
     "text": [
      "CPU times: user 7.74 ms, sys: 104 μs, total: 7.85 ms\n",
      "Wall time: 7.67 ms\n"
     ]
    }
   ],
   "source": [
    "%%time\n",
    "for x in range(x_shape):\n",
    "    for y in range(y_shape):\n",
    "        x_data[x, y] = x\n",
    "        y_data[x, y] = y\n",
    "        z_data[x, y] = np.random.random_sample()"
   ]
  },
  {
   "cell_type": "markdown",
   "metadata": {},
   "source": [
    "## Add to dataset inside double loop"
   ]
  },
  {
   "cell_type": "code",
   "execution_count": 10,
   "metadata": {
    "execution": {
     "iopub.execute_input": "2025-01-22T09:05:34.177303Z",
     "iopub.status.busy": "2025-01-22T09:05:34.177117Z",
     "iopub.status.idle": "2025-01-22T09:05:34.187178Z",
     "shell.execute_reply": "2025-01-22T09:05:34.186588Z"
    }
   },
   "outputs": [],
   "source": [
    "double_dataset = new_data_set(\n",
    "    \"doubledata\",\n",
    "    exp_id=exp.exp_id,\n",
    "    specs=[\n",
    "        ParamSpec(\"x\", \"numeric\"),\n",
    "        ParamSpec(\"y\", \"numeric\"),\n",
    "        ParamSpec(\"z\", \"numeric\"),\n",
    "    ],\n",
    ")\n",
    "double_dataset.mark_started()"
   ]
  },
  {
   "cell_type": "markdown",
   "metadata": {},
   "source": [
    "Note that this is so slow that we are only doing a 10th of the computation"
   ]
  },
  {
   "cell_type": "code",
   "execution_count": 11,
   "metadata": {
    "execution": {
     "iopub.execute_input": "2025-01-22T09:05:34.189146Z",
     "iopub.status.busy": "2025-01-22T09:05:34.188965Z",
     "iopub.status.idle": "2025-01-22T09:05:34.814069Z",
     "shell.execute_reply": "2025-01-22T09:05:34.813485Z"
    }
   },
   "outputs": [
    {
     "name": "stdout",
     "output_type": "stream",
     "text": [
      "CPU times: user 184 ms, sys: 65.4 ms, total: 249 ms\n",
      "Wall time: 621 ms\n"
     ]
    }
   ],
   "source": [
    "%%time\n",
    "for x in range(x_shape // 10):\n",
    "    for y in range(y_shape):\n",
    "        double_dataset.add_results([{\"x\": x, \"y\": y, \"z\": np.random.random_sample()}])"
   ]
  },
  {
   "cell_type": "markdown",
   "metadata": {},
   "source": [
    "## Add the data in outer loop and store as np array"
   ]
  },
  {
   "cell_type": "code",
   "execution_count": 12,
   "metadata": {
    "execution": {
     "iopub.execute_input": "2025-01-22T09:05:34.815912Z",
     "iopub.status.busy": "2025-01-22T09:05:34.815734Z",
     "iopub.status.idle": "2025-01-22T09:05:34.823808Z",
     "shell.execute_reply": "2025-01-22T09:05:34.823245Z"
    }
   },
   "outputs": [],
   "source": [
    "single_dataset = new_data_set(\n",
    "    \"singledata\",\n",
    "    exp_id=exp.exp_id,\n",
    "    specs=[ParamSpec(\"x\", \"array\"), ParamSpec(\"y\", \"array\"), ParamSpec(\"z\", \"array\")],\n",
    ")\n",
    "single_dataset.mark_started()\n",
    "x_data = np.zeros(y_shape)\n",
    "y_data = np.zeros(y_shape)\n",
    "z_data = np.zeros(y_shape)"
   ]
  },
  {
   "cell_type": "code",
   "execution_count": 13,
   "metadata": {
    "execution": {
     "iopub.execute_input": "2025-01-22T09:05:34.825768Z",
     "iopub.status.busy": "2025-01-22T09:05:34.825378Z",
     "iopub.status.idle": "2025-01-22T09:05:34.889069Z",
     "shell.execute_reply": "2025-01-22T09:05:34.888454Z"
    }
   },
   "outputs": [
    {
     "name": "stderr",
     "output_type": "stream",
     "text": [
      "2025-01-22 09:05:34,827 ¦ py.warnings ¦ WARNING ¦ warnings ¦ _showwarnmsg ¦ 110 ¦ <timed exec>:5: DeprecationWarning: Conversion of an array with ndim > 0 to a scalar is deprecated, and will error in future. Ensure you extract a single element from your array before performing this operation. (Deprecated NumPy 1.25.)\n",
      "\n"
     ]
    },
    {
     "name": "stdout",
     "output_type": "stream",
     "text": [
      "CPU times: user 42.2 ms, sys: 4.18 ms, total: 46.4 ms\n",
      "Wall time: 59 ms\n"
     ]
    }
   ],
   "source": [
    "%%time\n",
    "for x in range(x_shape):\n",
    "    for y in range(y_shape):\n",
    "        x_data[y] = x\n",
    "        y_data[y] = y\n",
    "        z_data[y] = np.random.random_sample(1)\n",
    "    single_dataset.add_results([{\"x\": x_data, \"y\": y_data, \"z\": z_data}])"
   ]
  },
  {
   "cell_type": "markdown",
   "metadata": {},
   "source": [
    "## Save once after loop"
   ]
  },
  {
   "cell_type": "code",
   "execution_count": 14,
   "metadata": {
    "execution": {
     "iopub.execute_input": "2025-01-22T09:05:34.890897Z",
     "iopub.status.busy": "2025-01-22T09:05:34.890720Z",
     "iopub.status.idle": "2025-01-22T09:05:34.899324Z",
     "shell.execute_reply": "2025-01-22T09:05:34.898695Z"
    }
   },
   "outputs": [],
   "source": [
    "zero_dataset = new_data_set(\n",
    "    \"zerodata\",\n",
    "    exp_id=exp.exp_id,\n",
    "    specs=[ParamSpec(\"x\", \"array\"), ParamSpec(\"y\", \"array\"), ParamSpec(\"z\", \"array\")],\n",
    ")\n",
    "zero_dataset.mark_started()\n",
    "x_data = np.zeros((x_shape, y_shape))\n",
    "y_data = np.zeros((x_shape, y_shape))\n",
    "z_data = np.zeros((x_shape, y_shape))"
   ]
  },
  {
   "cell_type": "code",
   "execution_count": 15,
   "metadata": {
    "execution": {
     "iopub.execute_input": "2025-01-22T09:05:34.901353Z",
     "iopub.status.busy": "2025-01-22T09:05:34.900914Z",
     "iopub.status.idle": "2025-01-22T09:05:34.932718Z",
     "shell.execute_reply": "2025-01-22T09:05:34.932071Z"
    }
   },
   "outputs": [
    {
     "name": "stderr",
     "output_type": "stream",
     "text": [
      "2025-01-22 09:05:34,903 ¦ py.warnings ¦ WARNING ¦ warnings ¦ _showwarnmsg ¦ 110 ¦ <timed exec>:5: DeprecationWarning: Conversion of an array with ndim > 0 to a scalar is deprecated, and will error in future. Ensure you extract a single element from your array before performing this operation. (Deprecated NumPy 1.25.)\n",
      "\n"
     ]
    },
    {
     "name": "stdout",
     "output_type": "stream",
     "text": [
      "CPU times: user 27 ms, sys: 0 ns, total: 27 ms\n",
      "Wall time: 27.2 ms\n"
     ]
    }
   ],
   "source": [
    "%%time\n",
    "for x in range(x_shape):\n",
    "    for y in range(y_shape):\n",
    "        x_data[x, y] = x\n",
    "        y_data[x, y] = y\n",
    "        z_data[x, y] = np.random.random_sample(1)\n",
    "zero_dataset.add_results([{\"x\": x_data, \"y\": y_data, \"z\": z_data}])"
   ]
  },
  {
   "cell_type": "markdown",
   "metadata": {},
   "source": [
    "## Array parameter"
   ]
  },
  {
   "cell_type": "code",
   "execution_count": 16,
   "metadata": {
    "execution": {
     "iopub.execute_input": "2025-01-22T09:05:34.934716Z",
     "iopub.status.busy": "2025-01-22T09:05:34.934548Z",
     "iopub.status.idle": "2025-01-22T09:05:34.942030Z",
     "shell.execute_reply": "2025-01-22T09:05:34.941388Z"
    }
   },
   "outputs": [],
   "source": [
    "array1D_dataset = new_data_set(\n",
    "    \"array1Ddata\",\n",
    "    exp_id=exp.exp_id,\n",
    "    specs=[ParamSpec(\"x\", \"array\"), ParamSpec(\"y\", \"array\"), ParamSpec(\"z\", \"array\")],\n",
    ")\n",
    "array1D_dataset.mark_started()\n",
    "y_setpoints = np.arange(y_shape)"
   ]
  },
  {
   "cell_type": "code",
   "execution_count": 17,
   "metadata": {
    "execution": {
     "iopub.execute_input": "2025-01-22T09:05:34.943760Z",
     "iopub.status.busy": "2025-01-22T09:05:34.943594Z",
     "iopub.status.idle": "2025-01-22T09:05:38.243111Z",
     "shell.execute_reply": "2025-01-22T09:05:38.242627Z"
    }
   },
   "outputs": [
    {
     "name": "stdout",
     "output_type": "stream",
     "text": [
      "40.7 ms ± 2.79 ms per loop (mean ± std. dev. of 7 runs, 10 loops each)\n"
     ]
    }
   ],
   "source": [
    "%%timeit\n",
    "for x in range(x_shape):\n",
    "    x_data[x, :] = x\n",
    "    array1D_dataset.add_results(\n",
    "        [{\"x\": x_data[x, :], \"y\": y_setpoints, \"z\": np.random.random_sample(y_shape)}]\n",
    "    )"
   ]
  },
  {
   "cell_type": "code",
   "execution_count": 18,
   "metadata": {
    "execution": {
     "iopub.execute_input": "2025-01-22T09:05:38.244959Z",
     "iopub.status.busy": "2025-01-22T09:05:38.244575Z",
     "iopub.status.idle": "2025-01-22T09:05:38.247908Z",
     "shell.execute_reply": "2025-01-22T09:05:38.247464Z"
    }
   },
   "outputs": [],
   "source": [
    "x_data = np.zeros((x_shape, y_shape))\n",
    "y_data = np.zeros((x_shape, y_shape))\n",
    "z_data = np.zeros((x_shape, y_shape))\n",
    "y_setpoints = np.arange(y_shape)"
   ]
  },
  {
   "cell_type": "code",
   "execution_count": 19,
   "metadata": {
    "execution": {
     "iopub.execute_input": "2025-01-22T09:05:38.249409Z",
     "iopub.status.busy": "2025-01-22T09:05:38.249226Z",
     "iopub.status.idle": "2025-01-22T09:05:38.256562Z",
     "shell.execute_reply": "2025-01-22T09:05:38.255967Z"
    }
   },
   "outputs": [],
   "source": [
    "array0D_dataset = new_data_set(\n",
    "    \"array0Ddata\",\n",
    "    exp_id=exp.exp_id,\n",
    "    specs=[ParamSpec(\"x\", \"array\"), ParamSpec(\"y\", \"array\"), ParamSpec(\"z\", \"array\")],\n",
    ")\n",
    "array0D_dataset.mark_started()"
   ]
  },
  {
   "cell_type": "code",
   "execution_count": 20,
   "metadata": {
    "execution": {
     "iopub.execute_input": "2025-01-22T09:05:38.258419Z",
     "iopub.status.busy": "2025-01-22T09:05:38.257980Z",
     "iopub.status.idle": "2025-01-22T09:05:53.673932Z",
     "shell.execute_reply": "2025-01-22T09:05:53.673314Z"
    }
   },
   "outputs": [
    {
     "name": "stdout",
     "output_type": "stream",
     "text": [
      "1.91 ms ± 28.9 μs per loop (mean ± std. dev. of 7 runs, 1,000 loops each)\n"
     ]
    }
   ],
   "source": [
    "%%timeit\n",
    "for x in range(x_shape):\n",
    "    x_data[x, :] = x\n",
    "    y_data[x, :] = y_setpoints\n",
    "    z_data[x, :] = np.random.random_sample(y_shape)\n",
    "array0D_dataset.add_results([{\"x\": x_data, \"y\": y_data, \"z\": z_data}])"
   ]
  },
  {
   "cell_type": "markdown",
   "metadata": {},
   "source": [
    "## Insert many"
   ]
  },
  {
   "cell_type": "code",
   "execution_count": 21,
   "metadata": {
    "execution": {
     "iopub.execute_input": "2025-01-22T09:05:53.675795Z",
     "iopub.status.busy": "2025-01-22T09:05:53.675445Z",
     "iopub.status.idle": "2025-01-22T09:05:53.684309Z",
     "shell.execute_reply": "2025-01-22T09:05:53.683831Z"
    }
   },
   "outputs": [],
   "source": [
    "data = []\n",
    "for i in range(100):\n",
    "    for j in range(100):\n",
    "        data.append({\"x\": i, \"y\": j, \"z\": np.random.random_sample()})"
   ]
  },
  {
   "cell_type": "code",
   "execution_count": 22,
   "metadata": {
    "execution": {
     "iopub.execute_input": "2025-01-22T09:05:53.686014Z",
     "iopub.status.busy": "2025-01-22T09:05:53.685670Z",
     "iopub.status.idle": "2025-01-22T09:05:53.693004Z",
     "shell.execute_reply": "2025-01-22T09:05:53.692433Z"
    }
   },
   "outputs": [],
   "source": [
    "many_Data = new_data_set(\n",
    "    \"many_data\",\n",
    "    exp_id=exp.exp_id,\n",
    "    specs=[\n",
    "        ParamSpec(\"x\", \"numeric\"),\n",
    "        ParamSpec(\"y\", \"numeric\"),\n",
    "        ParamSpec(\"z\", \"numeric\"),\n",
    "    ],\n",
    ")\n",
    "many_Data.mark_started()"
   ]
  },
  {
   "cell_type": "code",
   "execution_count": 23,
   "metadata": {
    "execution": {
     "iopub.execute_input": "2025-01-22T09:05:53.694715Z",
     "iopub.status.busy": "2025-01-22T09:05:53.694545Z",
     "iopub.status.idle": "2025-01-22T09:06:08.512464Z",
     "shell.execute_reply": "2025-01-22T09:06:08.511941Z"
    }
   },
   "outputs": [
    {
     "name": "stdout",
     "output_type": "stream",
     "text": [
      "18.3 ms ± 169 μs per loop (mean ± std. dev. of 7 runs, 100 loops each)\n"
     ]
    }
   ],
   "source": [
    "%%timeit\n",
    "many_Data.add_results(data)"
   ]
  }
 ],
 "metadata": {
  "kernelspec": {
   "display_name": "Python 3",
   "language": "python",
   "name": "python3"
  },
  "language_info": {
   "codemirror_mode": {
    "name": "ipython",
    "version": 3
   },
   "file_extension": ".py",
   "mimetype": "text/x-python",
   "name": "python",
   "nbconvert_exporter": "python",
   "pygments_lexer": "ipython3",
   "version": "3.11.11"
  },
  "nbsphinx": {
   "timeout": 600
  }
 },
 "nbformat": 4,
 "nbformat_minor": 2
}
