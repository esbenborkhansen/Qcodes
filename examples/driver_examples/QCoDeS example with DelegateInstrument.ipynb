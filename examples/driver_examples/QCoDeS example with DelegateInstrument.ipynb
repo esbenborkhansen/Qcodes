{
 "cells": [
  {
   "cell_type": "markdown",
   "id": "plain-primary",
   "metadata": {},
   "source": [
    "# Qcodes example with DelegateInstrument driver\n",
    "\n",
    "This notebooks explains how to use the `DelegateInstrument` driver.\n",
    "\n",
    "## About\n",
    "The goal of the `DelegateInstrument` driver is to make it easier to combine different parameters together into a new \"virtual\" instrument. Each parameter on a `DelegateInstrument` can point to one or more parameters on other instruments in the station.\n",
    "\n",
    "## Usage\n",
    "The way it's used is mainly by specifying an entry in the station YAML. For instance, let's say you want to use a magnetic field coil. The driver has a method set_field(value, block), that by default is set to block=True, which means the field is ramped in a way that blocks further execution until the desired value is reached. However, let's say you are creating a measurement in which you want the parameter to be set, and while the value is ramping, you want to measure other parameters. This can be done by using `DelegateInstrument` and specifying a custom `setter` for the parameter that gets and sets the magnetic field.\n",
    "\n",
    "By default, each parameter is represented by a `DelegateParameter`. The `DelegateInstrument` also supports passing multiple source parameters to a given parameter. In order to do this, simply specify multiple parameters in the dictionary values  under the `parameters` key.\n",
    "\n",
    "It can also add instrument channels, specified under a separate key `channels`, shown in the second half of the notebook."
   ]
  },
  {
   "cell_type": "code",
   "execution_count": 1,
   "id": "sapphire-quebec",
   "metadata": {
    "execution": {
     "iopub.execute_input": "2025-01-22T09:02:29.705243Z",
     "iopub.status.busy": "2025-01-22T09:02:29.705010Z",
     "iopub.status.idle": "2025-01-22T09:02:29.714630Z",
     "shell.execute_reply": "2025-01-22T09:02:29.713946Z"
    }
   },
   "outputs": [
    {
     "name": "stdout",
     "output_type": "stream",
     "text": [
      "Writing example.yaml\n"
     ]
    }
   ],
   "source": [
    "%%writefile example.yaml\n",
    "\n",
    "instruments:\n",
    "  field_X:\n",
    "    type: qcodes.instrument_drivers.mock_instruments.MockField\n",
    "\n",
    "  field:\n",
    "    type: qcodes.instrument.delegate.DelegateInstrument\n",
    "    init:\n",
    "      parameters:\n",
    "        X:\n",
    "          - field_X.field\n",
    "        ramp_rate:\n",
    "          - field_X.ramp_rate\n",
    "        combined:\n",
    "          - field_X.field\n",
    "          - field_X.ramp_rate\n",
    "      set_initial_values_on_load: true\n",
    "      initial_values:\n",
    "        ramp_rate: 1.0\n",
    "      setters:\n",
    "        X:\n",
    "          method: field_X.set_field\n",
    "          block: false"
   ]
  },
  {
   "cell_type": "code",
   "execution_count": 2,
   "id": "younger-newspaper",
   "metadata": {
    "execution": {
     "iopub.execute_input": "2025-01-22T09:02:29.716750Z",
     "iopub.status.busy": "2025-01-22T09:02:29.716217Z",
     "iopub.status.idle": "2025-01-22T09:02:30.431233Z",
     "shell.execute_reply": "2025-01-22T09:02:30.430596Z"
    }
   },
   "outputs": [
    {
     "name": "stdout",
     "output_type": "stream",
     "text": [
      "Logging hadn't been started.\n",
      "Activating auto-logging. Current session state plus future input saved.\n",
      "Filename       : /home/runner/.qcodes/logs/command_history.log\n",
      "Mode           : append\n",
      "Output logging : True\n",
      "Raw input log  : False\n",
      "Timestamping   : True\n",
      "State          : active\n"
     ]
    },
    {
     "name": "stdout",
     "output_type": "stream",
     "text": [
      "Qcodes Logfile : /home/runner/.qcodes/logs/250122-7955-qcodes.log\n"
     ]
    }
   ],
   "source": [
    "import qcodes as qc\n",
    "from qcodes.dataset import (\n",
    "    Measurement,\n",
    "    initialise_or_create_database_at,\n",
    "    load_or_create_experiment,\n",
    ")"
   ]
  },
  {
   "cell_type": "code",
   "execution_count": 3,
   "id": "muslim-briefs",
   "metadata": {
    "execution": {
     "iopub.execute_input": "2025-01-22T09:02:30.433109Z",
     "iopub.status.busy": "2025-01-22T09:02:30.432920Z",
     "iopub.status.idle": "2025-01-22T09:02:30.461678Z",
     "shell.execute_reply": "2025-01-22T09:02:30.461103Z"
    }
   },
   "outputs": [],
   "source": [
    "station = qc.Station(config_file=\"example.yaml\")"
   ]
  },
  {
   "cell_type": "code",
   "execution_count": 4,
   "id": "greatest-antenna",
   "metadata": {
    "execution": {
     "iopub.execute_input": "2025-01-22T09:02:30.463659Z",
     "iopub.status.busy": "2025-01-22T09:02:30.463481Z",
     "iopub.status.idle": "2025-01-22T09:02:30.483531Z",
     "shell.execute_reply": "2025-01-22T09:02:30.482951Z"
    }
   },
   "outputs": [],
   "source": [
    "field_X = station.load_field_X()\n",
    "field = station.load_field(station=station)"
   ]
  },
  {
   "cell_type": "code",
   "execution_count": 5,
   "id": "every-playing",
   "metadata": {
    "execution": {
     "iopub.execute_input": "2025-01-22T09:02:30.485250Z",
     "iopub.status.busy": "2025-01-22T09:02:30.485069Z",
     "iopub.status.idle": "2025-01-22T09:02:30.490942Z",
     "shell.execute_reply": "2025-01-22T09:02:30.490332Z"
    }
   },
   "outputs": [
    {
     "data": {
      "text/plain": [
       "0.0"
      ]
     },
     "execution_count": 5,
     "metadata": {},
     "output_type": "execute_result"
    }
   ],
   "source": [
    "field.X()"
   ]
  },
  {
   "cell_type": "code",
   "execution_count": 6,
   "id": "undefined-worst",
   "metadata": {
    "execution": {
     "iopub.execute_input": "2025-01-22T09:02:30.492587Z",
     "iopub.status.busy": "2025-01-22T09:02:30.492414Z",
     "iopub.status.idle": "2025-01-22T09:02:30.495354Z",
     "shell.execute_reply": "2025-01-22T09:02:30.494782Z"
    }
   },
   "outputs": [],
   "source": [
    "field.X(1.0)"
   ]
  },
  {
   "cell_type": "code",
   "execution_count": 7,
   "id": "recreational-suggestion",
   "metadata": {
    "execution": {
     "iopub.execute_input": "2025-01-22T09:02:30.497236Z",
     "iopub.status.busy": "2025-01-22T09:02:30.497068Z",
     "iopub.status.idle": "2025-01-22T09:02:30.500979Z",
     "shell.execute_reply": "2025-01-22T09:02:30.500409Z"
    }
   },
   "outputs": [
    {
     "data": {
      "text/plain": [
       "7.605552673339844e-05"
      ]
     },
     "execution_count": 7,
     "metadata": {},
     "output_type": "execute_result"
    }
   ],
   "source": [
    "field.X()"
   ]
  },
  {
   "cell_type": "code",
   "execution_count": 8,
   "id": "adopted-exchange",
   "metadata": {
    "execution": {
     "iopub.execute_input": "2025-01-22T09:02:30.502951Z",
     "iopub.status.busy": "2025-01-22T09:02:30.502530Z",
     "iopub.status.idle": "2025-01-22T09:02:30.507772Z",
     "shell.execute_reply": "2025-01-22T09:02:30.507159Z"
    }
   },
   "outputs": [
    {
     "data": {
      "text/plain": [
       "0.00019187529881795247"
      ]
     },
     "execution_count": 8,
     "metadata": {},
     "output_type": "execute_result"
    }
   ],
   "source": [
    "field.X()"
   ]
  },
  {
   "cell_type": "code",
   "execution_count": 9,
   "id": "bound-broadcasting",
   "metadata": {
    "execution": {
     "iopub.execute_input": "2025-01-22T09:02:30.509612Z",
     "iopub.status.busy": "2025-01-22T09:02:30.509437Z",
     "iopub.status.idle": "2025-01-22T09:02:30.513499Z",
     "shell.execute_reply": "2025-01-22T09:02:30.512904Z"
    }
   },
   "outputs": [
    {
     "data": {
      "text/plain": [
       "0.0002818147341410319"
      ]
     },
     "execution_count": 9,
     "metadata": {},
     "output_type": "execute_result"
    }
   ],
   "source": [
    "field.X()"
   ]
  },
  {
   "cell_type": "code",
   "execution_count": 10,
   "id": "casual-ghost",
   "metadata": {
    "execution": {
     "iopub.execute_input": "2025-01-22T09:02:30.515455Z",
     "iopub.status.busy": "2025-01-22T09:02:30.515032Z",
     "iopub.status.idle": "2025-01-22T09:02:30.519521Z",
     "shell.execute_reply": "2025-01-22T09:02:30.518945Z"
    }
   },
   "outputs": [
    {
     "data": {
      "text/plain": [
       "0.00038431485493977866"
      ]
     },
     "execution_count": 10,
     "metadata": {},
     "output_type": "execute_result"
    }
   ],
   "source": [
    "field.X()"
   ]
  },
  {
   "cell_type": "markdown",
   "id": "alike-process",
   "metadata": {},
   "source": [
    "As you can see, the field is now ramped in the background with the specified ramp rate. Now, let's try to create a measurement that uses this ability, and ramps the field in the background while measuring:"
   ]
  },
  {
   "cell_type": "code",
   "execution_count": 11,
   "id": "sustained-tiger",
   "metadata": {
    "execution": {
     "iopub.execute_input": "2025-01-22T09:02:30.521488Z",
     "iopub.status.busy": "2025-01-22T09:02:30.521318Z",
     "iopub.status.idle": "2025-01-22T09:02:30.526348Z",
     "shell.execute_reply": "2025-01-22T09:02:30.525723Z"
    }
   },
   "outputs": [],
   "source": [
    "field.ramp_rate(10.0)\n",
    "field_X.field(0.0)"
   ]
  },
  {
   "cell_type": "code",
   "execution_count": 12,
   "id": "pharmaceutical-partition",
   "metadata": {
    "execution": {
     "iopub.execute_input": "2025-01-22T09:02:30.528288Z",
     "iopub.status.busy": "2025-01-22T09:02:30.527863Z",
     "iopub.status.idle": "2025-01-22T09:02:30.532527Z",
     "shell.execute_reply": "2025-01-22T09:02:30.531909Z"
    }
   },
   "outputs": [
    {
     "data": {
      "text/plain": [
       "0.0"
      ]
     },
     "execution_count": 12,
     "metadata": {},
     "output_type": "execute_result"
    }
   ],
   "source": [
    "field.X()"
   ]
  },
  {
   "cell_type": "code",
   "execution_count": 13,
   "id": "happy-ordinance",
   "metadata": {
    "execution": {
     "iopub.execute_input": "2025-01-22T09:02:30.534209Z",
     "iopub.status.busy": "2025-01-22T09:02:30.534039Z",
     "iopub.status.idle": "2025-01-22T09:02:31.794516Z",
     "shell.execute_reply": "2025-01-22T09:02:31.793890Z"
    }
   },
   "outputs": [
    {
     "name": "stdout",
     "output_type": "stream",
     "text": [
      "Starting experimental run with id: 1. \n"
     ]
    }
   ],
   "source": [
    "import time\n",
    "\n",
    "initialise_or_create_database_at(\"delegate_instrument_example.db\")\n",
    "load_or_create_experiment(\"delegate_instrument_experiment\")\n",
    "\n",
    "meas = Measurement(station=station)\n",
    "meas.register_parameter(field.X)\n",
    "\n",
    "with meas.run() as datasaver:\n",
    "    for B in [0.1, 0.0]:\n",
    "        field.X(B)\n",
    "        while field.X() != B:\n",
    "            datasaver.add_result((field.X, field.X()))\n",
    "            time.sleep(0.01)\n",
    "    datasaver.flush_data_to_database()"
   ]
  },
  {
   "cell_type": "code",
   "execution_count": 14,
   "id": "short-medium",
   "metadata": {
    "execution": {
     "iopub.execute_input": "2025-01-22T09:02:31.796593Z",
     "iopub.status.busy": "2025-01-22T09:02:31.796413Z",
     "iopub.status.idle": "2025-01-22T09:02:32.449367Z",
     "shell.execute_reply": "2025-01-22T09:02:32.448668Z"
    }
   },
   "outputs": [
    {
     "data": {
      "text/plain": [
       "<Axes: >"
      ]
     },
     "execution_count": 14,
     "metadata": {},
     "output_type": "execute_result"
    },
    {
     "data": {
      "image/png": "[encoded data removed]",
      "text/plain": [
       "<Figure size 640x480 with 1 Axes>"
      ]
     },
     "metadata": {},
     "output_type": "display_data"
    }
   ],
   "source": [
    "datasaver.dataset.to_pandas_dataframe().plot()"
   ]
  },
  {
   "cell_type": "markdown",
   "id": "incomplete-vietnamese",
   "metadata": {},
   "source": [
    "When specifying multiple source parameters on a given parameter, the grouped parameter will automatically return a `namedtuple` that returns both values."
   ]
  },
  {
   "cell_type": "code",
   "execution_count": 15,
   "id": "dangerous-finder",
   "metadata": {
    "execution": {
     "iopub.execute_input": "2025-01-22T09:02:32.451626Z",
     "iopub.status.busy": "2025-01-22T09:02:32.451235Z",
     "iopub.status.idle": "2025-01-22T09:02:32.455825Z",
     "shell.execute_reply": "2025-01-22T09:02:32.455200Z"
    }
   },
   "outputs": [
    {
     "data": {
      "text/plain": [
       "combined(field=0.0, ramp_rate=10.0)"
      ]
     },
     "execution_count": 15,
     "metadata": {},
     "output_type": "execute_result"
    }
   ],
   "source": [
    "field.combined()"
   ]
  },
  {
   "cell_type": "markdown",
   "id": "consolidated-cooper",
   "metadata": {},
   "source": [
    "We can now also create a custom parameter that does a simple calculation based on the current parameters."
   ]
  },
  {
   "cell_type": "code",
   "execution_count": 16,
   "id": "designed-bloom",
   "metadata": {
    "execution": {
     "iopub.execute_input": "2025-01-22T09:02:32.457570Z",
     "iopub.status.busy": "2025-01-22T09:02:32.457396Z",
     "iopub.status.idle": "2025-01-22T09:02:32.460904Z",
     "shell.execute_reply": "2025-01-22T09:02:32.460290Z"
    }
   },
   "outputs": [],
   "source": [
    "import numpy as np\n",
    "\n",
    "\n",
    "def calculate_ramp_time(X, ramp_rate):\n",
    "    \"\"\"Calculate ramp time in seconds\"\"\"\n",
    "    dfield = np.abs(field.target_field - X)\n",
    "    return 60.0 * dfield / ramp_rate"
   ]
  },
  {
   "cell_type": "code",
   "execution_count": 17,
   "id": "disabled-logic",
   "metadata": {
    "execution": {
     "iopub.execute_input": "2025-01-22T09:02:32.462918Z",
     "iopub.status.busy": "2025-01-22T09:02:32.462502Z",
     "iopub.status.idle": "2025-01-22T09:02:32.466299Z",
     "shell.execute_reply": "2025-01-22T09:02:32.465721Z"
    },
    "scrolled": true
   },
   "outputs": [],
   "source": [
    "field._create_and_add_parameter(\n",
    "    group_name=\"ramp_time\",\n",
    "    station=station,\n",
    "    paths=[\"field_X.field\", \"field_X.ramp_rate\"],\n",
    "    formatter=calculate_ramp_time,\n",
    ")"
   ]
  },
  {
   "cell_type": "code",
   "execution_count": 18,
   "id": "adverse-february",
   "metadata": {
    "execution": {
     "iopub.execute_input": "2025-01-22T09:02:32.467998Z",
     "iopub.status.busy": "2025-01-22T09:02:32.467827Z",
     "iopub.status.idle": "2025-01-22T09:02:32.472657Z",
     "shell.execute_reply": "2025-01-22T09:02:32.472084Z"
    }
   },
   "outputs": [
    {
     "data": {
      "text/plain": [
       "np.float64(6.0)"
      ]
     },
     "execution_count": 18,
     "metadata": {},
     "output_type": "execute_result"
    }
   ],
   "source": [
    "field.ramp_rate(1.0)\n",
    "field.target_field = 0.1\n",
    "field.ramp_time()"
   ]
  },
  {
   "cell_type": "code",
   "execution_count": 19,
   "id": "statutory-xerox",
   "metadata": {
    "execution": {
     "iopub.execute_input": "2025-01-22T09:02:32.474366Z",
     "iopub.status.busy": "2025-01-22T09:02:32.474177Z",
     "iopub.status.idle": "2025-01-22T09:02:32.477028Z",
     "shell.execute_reply": "2025-01-22T09:02:32.476457Z"
    }
   },
   "outputs": [],
   "source": [
    "field.X(0.1)"
   ]
  },
  {
   "cell_type": "code",
   "execution_count": 20,
   "id": "varying-auditor",
   "metadata": {
    "execution": {
     "iopub.execute_input": "2025-01-22T09:02:32.478896Z",
     "iopub.status.busy": "2025-01-22T09:02:32.478727Z",
     "iopub.status.idle": "2025-01-22T09:02:32.482827Z",
     "shell.execute_reply": "2025-01-22T09:02:32.482228Z"
    }
   },
   "outputs": [
    {
     "data": {
      "text/plain": [
       "np.float64(5.995499134063721)"
      ]
     },
     "execution_count": 20,
     "metadata": {},
     "output_type": "execute_result"
    }
   ],
   "source": [
    "field.ramp_time()"
   ]
  },
  {
   "cell_type": "code",
   "execution_count": 21,
   "id": "chubby-nickel",
   "metadata": {
    "execution": {
     "iopub.execute_input": "2025-01-22T09:02:32.484832Z",
     "iopub.status.busy": "2025-01-22T09:02:32.484418Z",
     "iopub.status.idle": "2025-01-22T09:02:33.490073Z",
     "shell.execute_reply": "2025-01-22T09:02:33.489438Z"
    }
   },
   "outputs": [
    {
     "data": {
      "text/plain": [
       "np.float64(4.9888787269592285)"
      ]
     },
     "execution_count": 21,
     "metadata": {},
     "output_type": "execute_result"
    }
   ],
   "source": [
    "import time\n",
    "\n",
    "time.sleep(1.0)\n",
    "field.ramp_time()"
   ]
  },
  {
   "cell_type": "code",
   "execution_count": 22,
   "id": "italian-liberty",
   "metadata": {
    "execution": {
     "iopub.execute_input": "2025-01-22T09:02:33.492147Z",
     "iopub.status.busy": "2025-01-22T09:02:33.491972Z",
     "iopub.status.idle": "2025-01-22T09:02:34.496317Z",
     "shell.execute_reply": "2025-01-22T09:02:34.495709Z"
    }
   },
   "outputs": [
    {
     "data": {
      "text/plain": [
       "np.float64(3.9818642139434823)"
      ]
     },
     "execution_count": 22,
     "metadata": {},
     "output_type": "execute_result"
    }
   ],
   "source": [
    "import time\n",
    "\n",
    "time.sleep(1.0)\n",
    "field.ramp_time()"
   ]
  },
  {
   "attachments": {},
   "cell_type": "markdown",
   "id": "c1145a2d",
   "metadata": {},
   "source": [
    "## Devices with channels"
   ]
  },
  {
   "cell_type": "markdown",
   "id": "182693f8",
   "metadata": {},
   "source": [
    "The YAML file below specifies the instruments with the channels/parameters we wish to group into a new instrument, here called \"device\". The first example simply adds the channel 'as is' using self.add_submodule, while the readout parameter is added as a DelegateParameter."
   ]
  },
  {
   "cell_type": "code",
   "execution_count": 23,
   "id": "a88d5103",
   "metadata": {
    "execution": {
     "iopub.execute_input": "2025-01-22T09:02:34.498241Z",
     "iopub.status.busy": "2025-01-22T09:02:34.498062Z",
     "iopub.status.idle": "2025-01-22T09:02:34.502437Z",
     "shell.execute_reply": "2025-01-22T09:02:34.501745Z"
    }
   },
   "outputs": [
    {
     "name": "stdout",
     "output_type": "stream",
     "text": [
      "Overwriting example.yaml\n"
     ]
    }
   ],
   "source": [
    "%%writefile example.yaml\n",
    "\n",
    "instruments:\n",
    "  lockin:\n",
    "    type: qcodes.instrument_drivers.mock_instruments.MockLockin\n",
    "\n",
    "  dac:\n",
    "    type: qcodes.instrument_drivers.mock_instruments.MockDAC\n",
    "\n",
    "  device:\n",
    "    type: qcodes.instrument.delegate.DelegateInstrument\n",
    "    init:\n",
    "      parameters:\n",
    "        readout: lockin.X\n",
    "      channels:\n",
    "        gate_1: dac.ch01\n",
    "      set_initial_values_on_load: true\n",
    "      initial_values:\n",
    "        readout: 1e-5\n",
    "        gate_1.voltage.post_delay: 0.01"
   ]
  },
  {
   "cell_type": "code",
   "execution_count": 24,
   "id": "91f2a8ab",
   "metadata": {
    "execution": {
     "iopub.execute_input": "2025-01-22T09:02:34.504592Z",
     "iopub.status.busy": "2025-01-22T09:02:34.504019Z",
     "iopub.status.idle": "2025-01-22T09:02:34.519344Z",
     "shell.execute_reply": "2025-01-22T09:02:34.518743Z"
    }
   },
   "outputs": [],
   "source": [
    "station = qc.Station(config_file=\"example.yaml\")"
   ]
  },
  {
   "cell_type": "code",
   "execution_count": 25,
   "id": "45b22762",
   "metadata": {
    "execution": {
     "iopub.execute_input": "2025-01-22T09:02:34.521334Z",
     "iopub.status.busy": "2025-01-22T09:02:34.520897Z",
     "iopub.status.idle": "2025-01-22T09:02:34.551783Z",
     "shell.execute_reply": "2025-01-22T09:02:34.551133Z"
    }
   },
   "outputs": [],
   "source": [
    "lockin = station.load_lockin()\n",
    "dac = station.load_dac()\n",
    "device = station.load_device(station=station)"
   ]
  },
  {
   "cell_type": "code",
   "execution_count": 26,
   "id": "9bfa54fb",
   "metadata": {
    "execution": {
     "iopub.execute_input": "2025-01-22T09:02:34.554305Z",
     "iopub.status.busy": "2025-01-22T09:02:34.553685Z",
     "iopub.status.idle": "2025-01-22T09:02:34.557745Z",
     "shell.execute_reply": "2025-01-22T09:02:34.557129Z"
    }
   },
   "outputs": [
    {
     "name": "stdout",
     "output_type": "stream",
     "text": [
      "<MockDACChannel: dac_ch01 of MockDAC: dac>\n",
      "0.01\n"
     ]
    }
   ],
   "source": [
    "print(device.gate_1)\n",
    "print(device.gate_1.voltage.post_delay)"
   ]
  },
  {
   "cell_type": "code",
   "execution_count": 27,
   "id": "91d57fe0",
   "metadata": {
    "execution": {
     "iopub.execute_input": "2025-01-22T09:02:34.559607Z",
     "iopub.status.busy": "2025-01-22T09:02:34.559438Z",
     "iopub.status.idle": "2025-01-22T09:02:34.574013Z",
     "shell.execute_reply": "2025-01-22T09:02:34.573412Z"
    }
   },
   "outputs": [
    {
     "name": "stdout",
     "output_type": "stream",
     "text": [
      "0.0\n"
     ]
    },
    {
     "data": {
      "text/plain": [
       "-0.6"
      ]
     },
     "execution_count": 27,
     "metadata": {},
     "output_type": "execute_result"
    }
   ],
   "source": [
    "print(device.gate_1.voltage())\n",
    "device.gate_1.voltage(-0.6)\n",
    "device.gate_1.voltage()"
   ]
  },
  {
   "cell_type": "markdown",
   "id": "37e1c2c3",
   "metadata": {},
   "source": [
    "The second example adds a channel using a custom channel class, which takes the initial channel and its name as input and has a parameter current_valid_ranges."
   ]
  },
  {
   "cell_type": "code",
   "execution_count": 28,
   "id": "7e4becd1",
   "metadata": {
    "execution": {
     "iopub.execute_input": "2025-01-22T09:02:34.576110Z",
     "iopub.status.busy": "2025-01-22T09:02:34.575625Z",
     "iopub.status.idle": "2025-01-22T09:02:34.580111Z",
     "shell.execute_reply": "2025-01-22T09:02:34.579474Z"
    }
   },
   "outputs": [
    {
     "name": "stdout",
     "output_type": "stream",
     "text": [
      "Overwriting example.yaml\n"
     ]
    }
   ],
   "source": [
    "%%writefile example.yaml\n",
    "\n",
    "instruments:\n",
    "  lockin:\n",
    "    type: qcodes.instrument_drivers.mock_instruments.MockLockin\n",
    "\n",
    "  dac:\n",
    "    type: qcodes.instrument_drivers.mock_instruments.MockDAC\n",
    "\n",
    "  device:\n",
    "    type: qcodes.instrument.delegate.DelegateInstrument\n",
    "    init:\n",
    "      parameters:\n",
    "        readout: lockin.X\n",
    "      channels:\n",
    "        type: qcodes.instrument_drivers.mock_instruments.MockCustomChannel\n",
    "        gate_1:\n",
    "          channel: dac.ch01\n",
    "          current_valid_range: [-0.5, 0]\n",
    "      set_initial_values_on_load: true\n",
    "      initial_values:\n",
    "        readout: 1e-5"
   ]
  },
  {
   "cell_type": "code",
   "execution_count": 29,
   "id": "2e3ca8d5",
   "metadata": {
    "execution": {
     "iopub.execute_input": "2025-01-22T09:02:34.582121Z",
     "iopub.status.busy": "2025-01-22T09:02:34.581728Z",
     "iopub.status.idle": "2025-01-22T09:02:34.584924Z",
     "shell.execute_reply": "2025-01-22T09:02:34.584293Z"
    }
   },
   "outputs": [],
   "source": [
    "lockin.close()\n",
    "dac.close()"
   ]
  },
  {
   "cell_type": "code",
   "execution_count": 30,
   "id": "2f2d2b2b",
   "metadata": {
    "execution": {
     "iopub.execute_input": "2025-01-22T09:02:34.586619Z",
     "iopub.status.busy": "2025-01-22T09:02:34.586450Z",
     "iopub.status.idle": "2025-01-22T09:02:34.621502Z",
     "shell.execute_reply": "2025-01-22T09:02:34.620830Z"
    }
   },
   "outputs": [],
   "source": [
    "station = qc.Station(config_file=\"example.yaml\")\n",
    "lockin = station.load_lockin()\n",
    "dac = station.load_dac()"
   ]
  },
  {
   "cell_type": "code",
   "execution_count": 31,
   "id": "9cb653b0",
   "metadata": {
    "execution": {
     "iopub.execute_input": "2025-01-22T09:02:34.623681Z",
     "iopub.status.busy": "2025-01-22T09:02:34.623184Z",
     "iopub.status.idle": "2025-01-22T09:02:34.637590Z",
     "shell.execute_reply": "2025-01-22T09:02:34.637007Z"
    }
   },
   "outputs": [],
   "source": [
    "device = station.load_device(station=station)"
   ]
  },
  {
   "cell_type": "code",
   "execution_count": 32,
   "id": "433d9646",
   "metadata": {
    "execution": {
     "iopub.execute_input": "2025-01-22T09:02:34.639396Z",
     "iopub.status.busy": "2025-01-22T09:02:34.639137Z",
     "iopub.status.idle": "2025-01-22T09:02:34.643837Z",
     "shell.execute_reply": "2025-01-22T09:02:34.643186Z"
    }
   },
   "outputs": [
    {
     "data": {
      "text/plain": [
       "<MockCustomChannel: dac_gate_1 of MockDAC: dac>"
      ]
     },
     "execution_count": 32,
     "metadata": {},
     "output_type": "execute_result"
    }
   ],
   "source": [
    "device.gate_1"
   ]
  },
  {
   "cell_type": "code",
   "execution_count": 33,
   "id": "3d2b8faa",
   "metadata": {
    "execution": {
     "iopub.execute_input": "2025-01-22T09:02:34.645724Z",
     "iopub.status.busy": "2025-01-22T09:02:34.645550Z",
     "iopub.status.idle": "2025-01-22T09:02:34.648560Z",
     "shell.execute_reply": "2025-01-22T09:02:34.647950Z"
    }
   },
   "outputs": [],
   "source": [
    "device.gate_1.voltage(-0.3)"
   ]
  },
  {
   "cell_type": "code",
   "execution_count": 34,
   "id": "49def342",
   "metadata": {
    "execution": {
     "iopub.execute_input": "2025-01-22T09:02:34.650368Z",
     "iopub.status.busy": "2025-01-22T09:02:34.650133Z",
     "iopub.status.idle": "2025-01-22T09:02:34.654302Z",
     "shell.execute_reply": "2025-01-22T09:02:34.653672Z"
    }
   },
   "outputs": [
    {
     "data": {
      "text/plain": [
       "-0.3"
      ]
     },
     "execution_count": 34,
     "metadata": {},
     "output_type": "execute_result"
    }
   ],
   "source": [
    "device.gate_1.voltage()"
   ]
  },
  {
   "cell_type": "markdown",
   "id": "7b122128",
   "metadata": {},
   "source": [
    "The MockCustomChannel has a parameter `current_valid_range`."
   ]
  },
  {
   "cell_type": "code",
   "execution_count": 35,
   "id": "d32a06fd",
   "metadata": {
    "execution": {
     "iopub.execute_input": "2025-01-22T09:02:34.656298Z",
     "iopub.status.busy": "2025-01-22T09:02:34.656083Z",
     "iopub.status.idle": "2025-01-22T09:02:34.660867Z",
     "shell.execute_reply": "2025-01-22T09:02:34.660214Z"
    }
   },
   "outputs": [
    {
     "data": {
      "text/plain": [
       "[-0.5, 0]"
      ]
     },
     "execution_count": 35,
     "metadata": {},
     "output_type": "execute_result"
    }
   ],
   "source": [
    "device.gate_1.current_valid_range()"
   ]
  }
 ],
 "metadata": {
  "kernelspec": {
   "display_name": "Python 3 (ipykernel)",
   "language": "python",
   "name": "python3"
  },
  "language_info": {
   "codemirror_mode": {
    "name": "ipython",
    "version": 3
   },
   "file_extension": ".py",
   "mimetype": "text/x-python",
   "name": "python",
   "nbconvert_exporter": "python",
   "pygments_lexer": "ipython3",
   "version": "3.11.11"
  }
 },
 "nbformat": 4,
 "nbformat_minor": 5
}
